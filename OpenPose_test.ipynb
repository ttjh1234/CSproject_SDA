{
  "nbformat": 4,
  "nbformat_minor": 0,
  "metadata": {
    "colab": {
      "name": "OpenPose_test.ipynb",
      "provenance": [],
      "collapsed_sections": [
        "eILA7ybk16mK",
        "8KW44x3o0PSI",
        "8so3wiBW_mKl",
        "EqqSa68rNI-X",
        "QMLGkoVTUENI"
      ],
      "mount_file_id": "1-qXp4DR0lo8oCw8CF4scE-GFd_gQ-iRi",
      "authorship_tag": "ABX9TyMsYcyoe91Uf+2z1rET7VbW",
      "include_colab_link": true
    },
    "kernelspec": {
      "name": "python3",
      "display_name": "Python 3"
    },
    "language_info": {
      "name": "python"
    },
    "accelerator": "GPU"
  },
  "cells": [
    {
      "cell_type": "markdown",
      "metadata": {
        "id": "view-in-github",
        "colab_type": "text"
      },
      "source": [
        "<a href=\"https://colab.research.google.com/github/ttjh1234/CSproject_SDA/blob/main/OpenPose_test.ipynb\" target=\"_parent\"><img src=\"https://colab.research.google.com/assets/colab-badge.svg\" alt=\"Open In Colab\"/></a>"
      ]
    },
    {
      "cell_type": "markdown",
      "source": [
        "# OpenPose Test"
      ],
      "metadata": {
        "id": "g3S4-AEVmH1-"
      }
    },
    {
      "cell_type": "markdown",
      "source": [
        "test model is MPII, and using pre-trained model "
      ],
      "metadata": {
        "id": "Qk4K3eqVmKGT"
      }
    },
    {
      "cell_type": "markdown",
      "source": [
        "## 사진처리해보기"
      ],
      "metadata": {
        "id": "eILA7ybk16mK"
      }
    },
    {
      "cell_type": "code",
      "execution_count": null,
      "metadata": {
        "colab": {
          "base_uri": "https://localhost:8080/"
        },
        "id": "PExGEKX_mFo-",
        "outputId": "59866df1-99c5-46ca-d683-e1b7bf25db08"
      },
      "outputs": [
        {
          "output_type": "stream",
          "name": "stdout",
          "text": [
            "Requirement already satisfied: opencv-python in /usr/local/lib/python3.7/dist-packages (4.1.2.30)\n",
            "Requirement already satisfied: numpy>=1.14.5 in /usr/local/lib/python3.7/dist-packages (from opencv-python) (1.21.5)\n"
          ]
        }
      ],
      "source": [
        "!pip install opencv-python"
      ]
    },
    {
      "cell_type": "code",
      "source": [
        "import cv2\n",
        "import matplotlib.pyplot as plt\n",
        "import numpy as np\n",
        "import pandas as pd\n",
        "import tensorflow as tf"
      ],
      "metadata": {
        "id": "sUAnPONAncU0"
      },
      "execution_count": null,
      "outputs": []
    },
    {
      "cell_type": "code",
      "source": [
        "# MPII에서 각 파트 번호, 선으로 연결될 POSE_PAIRS\n",
        "BODY_PARTS = { \"Head\": 0, \"Neck\": 1, \"RShoulder\": 2, \"RElbow\": 3, \"RWrist\": 4,\n",
        "                \"LShoulder\": 5, \"LElbow\": 6, \"LWrist\": 7, \"RHip\": 8, \"RKnee\": 9,\n",
        "                \"RAnkle\": 10, \"LHip\": 11, \"LKnee\": 12, \"LAnkle\": 13, \"Chest\": 14,\n",
        "                \"Background\": 15 }\n",
        "\n",
        "POSE_PAIRS = [ [\"Head\", \"Neck\"], [\"Neck\", \"RShoulder\"], [\"RShoulder\", \"RElbow\"],\n",
        "                [\"RElbow\", \"RWrist\"], [\"Neck\", \"LShoulder\"], [\"LShoulder\", \"LElbow\"],\n",
        "                [\"LElbow\", \"LWrist\"], [\"Neck\", \"Chest\"], [\"Chest\", \"RHip\"], [\"RHip\", \"RKnee\"],\n",
        "                [\"RKnee\", \"RAnkle\"], [\"Chest\", \"LHip\"], [\"LHip\", \"LKnee\"], [\"LKnee\", \"LAnkle\"] ]"
      ],
      "metadata": {
        "id": "zrloN70wnjce"
      },
      "execution_count": null,
      "outputs": []
    },
    {
      "cell_type": "code",
      "source": [
        "# 각 파일 path\n",
        "protoFile = \"./drive/MyDrive/OpenPose/pose_deploy_linevec_faster_4_stages.prototxt\"\n",
        "weightsFile = \"./drive/MyDrive/OpenPose/pose_iter_160000.caffemodel\""
      ],
      "metadata": {
        "id": "pjfBExSEnpFd"
      },
      "execution_count": null,
      "outputs": []
    },
    {
      "cell_type": "code",
      "source": [
        "# 위의 path에 있는 network 불러오기\n",
        "net = cv2.dnn.readNetFromCaffe(protoFile, weightsFile)"
      ],
      "metadata": {
        "id": "lWgOdq-gnyoc"
      },
      "execution_count": null,
      "outputs": []
    },
    {
      "cell_type": "code",
      "source": [
        "type(net)"
      ],
      "metadata": {
        "colab": {
          "base_uri": "https://localhost:8080/"
        },
        "id": "hDPDo9A2vdsL",
        "outputId": "4c34c31c-ecc8-47af-c53e-10d60c2966a3"
      },
      "execution_count": null,
      "outputs": [
        {
          "output_type": "execute_result",
          "data": {
            "text/plain": [
              "cv2.dnn_Net"
            ]
          },
          "metadata": {},
          "execution_count": 6
        }
      ]
    },
    {
      "cell_type": "code",
      "source": [
        "# 이미지 읽어오기\n",
        "image = cv2.imread(\"./drive/MyDrive/OpenPose/test_image2.jpg\",cv2.IMREAD_COLOR)"
      ],
      "metadata": {
        "id": "-95Vi9hdnz58"
      },
      "execution_count": null,
      "outputs": []
    },
    {
      "cell_type": "code",
      "source": [
        "image=cv2.cvtColor(image, cv2.COLOR_BGR2RGB)"
      ],
      "metadata": {
        "id": "NGDtgqHk-7OK"
      },
      "execution_count": null,
      "outputs": []
    },
    {
      "cell_type": "code",
      "source": [
        "type(image)"
      ],
      "metadata": {
        "colab": {
          "base_uri": "https://localhost:8080/"
        },
        "id": "HE4rFtGzv_0q",
        "outputId": "bbb9d32a-efee-4a17-f084-569828d0fc6f"
      },
      "execution_count": null,
      "outputs": [
        {
          "output_type": "execute_result",
          "data": {
            "text/plain": [
              "numpy.ndarray"
            ]
          },
          "metadata": {},
          "execution_count": 9
        }
      ]
    },
    {
      "cell_type": "code",
      "source": [
        "image.shape"
      ],
      "metadata": {
        "colab": {
          "base_uri": "https://localhost:8080/"
        },
        "id": "AHLoKKre-bwB",
        "outputId": "f89d5180-7013-42b1-88b8-b50796668f10"
      },
      "execution_count": null,
      "outputs": [
        {
          "output_type": "execute_result",
          "data": {
            "text/plain": [
              "(320, 340, 3)"
            ]
          },
          "metadata": {},
          "execution_count": 10
        }
      ]
    },
    {
      "cell_type": "code",
      "source": [
        "plt.imshow(image)"
      ],
      "metadata": {
        "colab": {
          "base_uri": "https://localhost:8080/",
          "height": 287
        },
        "id": "6PmMvdy_viEP",
        "outputId": "bc773041-5637-4424-8216-4d781a2746bc"
      },
      "execution_count": null,
      "outputs": [
        {
          "output_type": "execute_result",
          "data": {
            "text/plain": [
              "<matplotlib.image.AxesImage at 0x7f735ff2ff50>"
            ]
          },
          "metadata": {},
          "execution_count": 11
        },
        {
          "output_type": "display_data",
          "data": {
            "text/plain": [
              "<Figure size 432x288 with 1 Axes>"
            ],
            "image/png": "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\n"
          },
          "metadata": {
            "needs_background": "light"
          }
        }
      ]
    },
    {
      "cell_type": "code",
      "source": [
        "# frame.shape = 불러온 이미지에서 height, width, color 받아옴\n",
        "imageHeight, imageWidth, _ = image.shape"
      ],
      "metadata": {
        "id": "XMPbWYfvvgZL"
      },
      "execution_count": null,
      "outputs": []
    },
    {
      "cell_type": "code",
      "source": [
        "# network에 넣기위해 전처리\n",
        "inpBlob = cv2.dnn.blobFromImage(image, 1.0 / 255, (imageWidth, imageHeight), (0, 0, 0), swapRB=False, crop=False)"
      ],
      "metadata": {
        "id": "B-Dkx93wxQyi"
      },
      "execution_count": null,
      "outputs": []
    },
    {
      "cell_type": "markdown",
      "source": [
        "cv2.dnn.blobFromImage(image, scalefactor=None, size=None, mean=None, swapRB=None, crop=None, ddepth=None) -> retval\n",
        "\n",
        "• image: 입력 영상\n",
        "\n",
        "• scalefactor: 입력 영상 픽셀 값에 곱할 값. 기본값은 1.\n",
        "\n",
        "• size: 출력 영상의 크기. 기본값은 (0, 0).\n",
        "\n",
        "• mean: 입력 영상 각 채널에서 뺄 평균 값. 기본값은 (0, 0, 0, 0).\n",
        "\n",
        "• swapRB: R과 B 채널을 서로 바꿀 것인지를 결정하는 플래그. 기본값은 False.\n",
        "\n",
        "• crop: 크롭(crop) 수행 여부. 기본값은 False.\n",
        "\n",
        "• ddepth: 출력 블롭의 깊이. CV_32F 또는 CV_8U. 기본값은 CV_32F.\n",
        "\n",
        "• retval: 영상으로부터 구한 블롭 객체. numpy.ndarray. shape=(N,C,H,W). dtype=numpy.float32."
      ],
      "metadata": {
        "id": "kCT3t9c-_MRt"
      }
    },
    {
      "cell_type": "code",
      "source": [
        "inpBlob"
      ],
      "metadata": {
        "colab": {
          "base_uri": "https://localhost:8080/"
        },
        "id": "TQOOO32CxRdK",
        "outputId": "365ddec7-dec7-44dc-d1a8-99db3e05a114"
      },
      "execution_count": null,
      "outputs": [
        {
          "output_type": "execute_result",
          "data": {
            "text/plain": [
              "array([[[[0.9607844 , 0.9607844 , 0.9607844 , ..., 0.92549026,\n",
              "          0.92549026, 0.92549026],\n",
              "         [0.9607844 , 0.9607844 , 0.9607844 , ..., 0.92549026,\n",
              "          0.92549026, 0.92549026],\n",
              "         [0.96470594, 0.96470594, 0.96470594, ..., 0.9294118 ,\n",
              "          0.9294118 , 0.9294118 ],\n",
              "         ...,\n",
              "         [0.9843138 , 0.9843138 , 0.9843138 , ..., 0.9450981 ,\n",
              "          0.9450981 , 0.9450981 ],\n",
              "         [0.9843138 , 0.9843138 , 0.9843138 , ..., 0.9450981 ,\n",
              "          0.9450981 , 0.9450981 ],\n",
              "         [0.9843138 , 0.9843138 , 0.9843138 , ..., 0.9450981 ,\n",
              "          0.9450981 , 0.9450981 ]],\n",
              "\n",
              "        [[0.9607844 , 0.9607844 , 0.9607844 , ..., 0.92549026,\n",
              "          0.92549026, 0.92549026],\n",
              "         [0.9607844 , 0.9607844 , 0.9607844 , ..., 0.92549026,\n",
              "          0.92549026, 0.92549026],\n",
              "         [0.96470594, 0.96470594, 0.96470594, ..., 0.9294118 ,\n",
              "          0.9294118 , 0.9294118 ],\n",
              "         ...,\n",
              "         [0.9843138 , 0.9843138 , 0.9843138 , ..., 0.9450981 ,\n",
              "          0.9450981 , 0.9450981 ],\n",
              "         [0.9843138 , 0.9843138 , 0.9843138 , ..., 0.9450981 ,\n",
              "          0.9450981 , 0.9450981 ],\n",
              "         [0.9843138 , 0.9843138 , 0.9843138 , ..., 0.9450981 ,\n",
              "          0.9450981 , 0.9450981 ]],\n",
              "\n",
              "        [[0.9686275 , 0.9686275 , 0.9686275 , ..., 0.9333334 ,\n",
              "          0.9333334 , 0.9333334 ],\n",
              "         [0.9686275 , 0.9686275 , 0.9686275 , ..., 0.9333334 ,\n",
              "          0.9333334 , 0.9333334 ],\n",
              "         [0.9725491 , 0.9725491 , 0.9725491 , ..., 0.93725497,\n",
              "          0.93725497, 0.93725497],\n",
              "         ...,\n",
              "         [0.9921569 , 0.9921569 , 0.9921569 , ..., 0.95294124,\n",
              "          0.95294124, 0.95294124],\n",
              "         [0.9921569 , 0.9921569 , 0.9921569 , ..., 0.95294124,\n",
              "          0.95294124, 0.95294124],\n",
              "         [0.9921569 , 0.9921569 , 0.9921569 , ..., 0.95294124,\n",
              "          0.95294124, 0.95294124]]]], dtype=float32)"
            ]
          },
          "metadata": {},
          "execution_count": 14
        }
      ]
    },
    {
      "cell_type": "code",
      "source": [
        "inpBlob.shape"
      ],
      "metadata": {
        "colab": {
          "base_uri": "https://localhost:8080/"
        },
        "id": "0UDO0ATxAngj",
        "outputId": "53f7da60-837c-44de-ace6-c2d27ee2326a"
      },
      "execution_count": null,
      "outputs": [
        {
          "output_type": "execute_result",
          "data": {
            "text/plain": [
              "(1, 3, 320, 340)"
            ]
          },
          "metadata": {},
          "execution_count": 15
        }
      ]
    },
    {
      "cell_type": "code",
      "source": [
        "# network에 넣어주기\n",
        "net.setInput(inpBlob)"
      ],
      "metadata": {
        "id": "-VueQWiJxVhC"
      },
      "execution_count": null,
      "outputs": []
    },
    {
      "cell_type": "markdown",
      "source": [
        "cv2.dnn_Net.setInput(blob, name=None, scalefactor=None, mean=None) -> None\n",
        "\n",
        "• blob: 블롭 객체\n",
        "\n",
        "• name: 입력 레이어 이름\n",
        "\n",
        "• scalefactor: 추가적으로 픽셀 값에 곱할 값\n",
        "\n",
        "• mean: 추가적으로 픽셀 값에서 뺄 평균 값"
      ],
      "metadata": {
        "id": "TlGrGNIvAJB6"
      }
    },
    {
      "cell_type": "code",
      "source": [
        "# 결과 받아오기\n",
        "output = net.forward()"
      ],
      "metadata": {
        "id": "UVFlMTLGxXIR"
      },
      "execution_count": null,
      "outputs": []
    },
    {
      "cell_type": "markdown",
      "source": [
        "네트워크 순방향 실행(추론) - cv2.dnn_Net.forward\n",
        "\n",
        "cv2.dnn_Net.forward(outputName=None) -> retval\n",
        "cv2.dnn_Net.forward(outputNames=None, outputBlobs=None) -> outputBlobs\n",
        "\n",
        "• outputName: 출력 레이어 이름\n",
        "\n",
        "• retval: 지정한 레이어의 출력 블롭. 네트워크마다 다르게 결정됨.\n",
        "\n",
        "• outputNames: 출력 레이어 이름 리스트\n",
        "\n",
        "• outputBlobs: 지정한 레이어의 출력 블롭 리스트"
      ],
      "metadata": {
        "id": "tcArtXnuANDh"
      }
    },
    {
      "cell_type": "markdown",
      "source": [
        "4초 걸림"
      ],
      "metadata": {
        "id": "gYUOTmaTxaIP"
      }
    },
    {
      "cell_type": "code",
      "source": [
        "type(output)"
      ],
      "metadata": {
        "colab": {
          "base_uri": "https://localhost:8080/"
        },
        "id": "wSaFY6KOxdwa",
        "outputId": "4dd01fa4-4a7d-4140-d276-e34d2393f5fe"
      },
      "execution_count": null,
      "outputs": [
        {
          "output_type": "execute_result",
          "data": {
            "text/plain": [
              "numpy.ndarray"
            ]
          },
          "metadata": {},
          "execution_count": 18
        }
      ]
    },
    {
      "cell_type": "code",
      "source": [
        "output.shape"
      ],
      "metadata": {
        "colab": {
          "base_uri": "https://localhost:8080/"
        },
        "id": "1pYlugQrxfgN",
        "outputId": "0e49d594-c552-41f3-8b2d-8e4cfed8a9bc"
      },
      "execution_count": null,
      "outputs": [
        {
          "output_type": "execute_result",
          "data": {
            "text/plain": [
              "(1, 44, 40, 43)"
            ]
          },
          "metadata": {},
          "execution_count": 19
        }
      ]
    },
    {
      "cell_type": "markdown",
      "source": [
        "output의 shape이 4차원인 이유\n",
        "\n",
        "* The output is a 4D matrix :\n",
        "\n",
        "       he first dimension being the image ID ( in case you pass more than one image to the network ).\n",
        "\n",
        "       The second dimension indicates the index of a keypoint.\n",
        "\n",
        "       The model produces Confidence Maps and Part Affinity maps which are all concatenated.\n",
        "\n",
        "       For COCO model it consists of 57 parts – 18 keypoint confidence Maps + 1 background + 19*2 Part Affinity Maps. Similarly, for MPI, it produces 44 points.\n",
        "\n",
        "       We will be using only the first few points which correspond to Keypoints.\n",
        "\n",
        "       The third dimension is the height of the output map.\n",
        "\n",
        "       The fourth dimension is the width of the output map."
      ],
      "metadata": {
        "id": "QN0Ho48VAAjZ"
      }
    },
    {
      "cell_type": "code",
      "source": [
        "# output.shape[1] = 이미지 ID, [2] = 출력 맵의 높이, [3] = 너비\n",
        "H = output.shape[2]\n",
        "W = output.shape[3]\n",
        "print(\"이미지 ID : \", len(output[0]), \", H : \", output.shape[2], \", W : \",output.shape[3]) # 이미지 ID"
      ],
      "metadata": {
        "colab": {
          "base_uri": "https://localhost:8080/"
        },
        "id": "-VpmrZoDxYsz",
        "outputId": "74622cf8-ca3c-4ac4-d7ef-d618fd61eaa2"
      },
      "execution_count": null,
      "outputs": [
        {
          "output_type": "stream",
          "name": "stdout",
          "text": [
            "이미지 ID :  44 , H :  40 , W :  43\n"
          ]
        }
      ]
    },
    {
      "cell_type": "code",
      "source": [
        "points = []\n",
        "for i in range(0,15):\n",
        "    # 해당 신체부위 신뢰도 얻음.\n",
        "    probMap = output[0, i, :, :]\n",
        " \n",
        "    # global 최대값 찾기\n",
        "    minVal, prob, minLoc, point = cv2.minMaxLoc(probMap)\n",
        "\n",
        "    # 원래 이미지에 맞게 점 위치 변경\n",
        "    x = (imageWidth * point[0]) / W\n",
        "    y = (imageHeight * point[1]) / H\n",
        "\n",
        "    # 키포인트 검출한 결과가 0.1보다 크면(검출한곳이 위 BODY_PARTS랑 맞는 부위면) points에 추가, 검출했는데 부위가 없으면 None으로    \n",
        "    if prob > 0.1 :    \n",
        "        cv2.circle(image, (int(x), int(y)), 3, (0, 255, 255), thickness=-1, lineType=cv2.FILLED)       # circle(그릴곳, 원의 중심, 반지름, 색)\n",
        "        cv2.putText(image, \"{}\".format(i), (int(x), int(y)), cv2.FONT_HERSHEY_SIMPLEX, 0.5, (0, 0, 255), 1, lineType=cv2.LINE_AA)\n",
        "        points.append((int(x), int(y)))\n",
        "    else :\n",
        "        points.append(None)"
      ],
      "metadata": {
        "id": "dD8lb46Qxu-D"
      },
      "execution_count": null,
      "outputs": []
    },
    {
      "cell_type": "markdown",
      "source": [
        "템플릿 매칭(Template Matching)\n",
        "\n",
        "템플릿 매칭은 원본 이미지에서 템플릿 이미지와 일치하는 영역을 찾는 알고리즘입니다.\n",
        "\n",
        "원본 이미지 위에 템플릿 이미지를 놓고 조금씩 이동해가며 이미지 끝에 도달할 때 까지 비교해 찾아갑니다.\n",
        "\n",
        "이 방식을 통해, 템플릿 이미지와 동일하거나, 가장 유사한 영역을 원본 이미지에서 검출합니다.\n"
      ],
      "metadata": {
        "id": "fWjaZjx5B1sJ"
      }
    },
    {
      "cell_type": "markdown",
      "source": [
        "minMaxLoc( ) 함수\n",
        "\n",
        "다음으로 살펴볼 함수는 주어진 행렬의 최솟값, 최댓값을 찾는 minMaxLoc() 함수입니다. 이 함수는 최솟값, 최댓값이 있는 좌표 정보도 함께 알아낼 수 있습니다. minMaxLoc() 함수 원형은 다음과 같습니다.\n",
        "\n",
        "    void minMaxLoc(InputArray src, double* minVal,\n",
        "               double* maxVal = 0, Point* minLoc = 0,\n",
        "               Point* maxLoc = 0, InputArray mask = noArray());\n",
        "\n",
        "\n",
        "• src\n",
        "\n",
        "입력 영상. 단일 채널\n",
        "\n",
        "• minVal\n",
        "\n",
        "최솟값을 받을 double형 변수의 주소. 필요 없으면 0을 지정합니다.\n",
        "\n",
        "• maxVal\n",
        "\n",
        "최댓값을 받을 double형 변수의 주소. 필요 없으면 0을 지정합니다.\n",
        "\n",
        "• minLoc\n",
        "\n",
        "최솟값 위치 좌표를 받을 Point형 변수의 주소. 필요 없으면 0을 지정합니다.\n",
        "\n",
        "• maxLoc\n",
        "\n",
        "최댓값 위치 좌표를 받을 Point형 변수의 주소. 필요 없으면 0을 지정합니다.\n",
        "\n",
        "• mask\n",
        "\n",
        "마스크 영상. 마스크 영상의 픽셀 값이 0이 아닌 위치에서만 연산을 수행합니다.\n",
        "\n",
        " \n",
        "\n",
        "minMaxLoc() 함수는 행렬 또는 영상에서 최솟값, 최댓값, 그리고 최솟값과 최댓값 위치를 찾을 때 사용합니다. minMaxLoc() 함수는 마스크 연산을 지원하므로 행렬 일부 영역에서의 최솟값, 최댓값 또는 해당 위치를 구할 수도 있습니다. 만약 주어진 행렬에서 가장 큰 원소 값만 알고 싶다면 maxVal 인자만 설정하고, 나머지 인자에는 0(NULL)을 전달합니다."
      ],
      "metadata": {
        "id": "RxH1CJv4CWix"
      }
    },
    {
      "cell_type": "markdown",
      "source": [
        "    minVal, maxVal, minLoc, maxLoc = cv2.minMaxLoc(result)\n",
        "\n",
        "< Return 값 >\n",
        "\n",
        "최소 포인터\n",
        "\n",
        "최대 포인터\n",
        "\n",
        "최소 지점\n",
        "\n",
        "최대 지점\n"
      ],
      "metadata": {
        "id": "DbTcQCtpFEso"
      }
    },
    {
      "cell_type": "code",
      "source": [
        "plt.imshow(image)"
      ],
      "metadata": {
        "colab": {
          "base_uri": "https://localhost:8080/",
          "height": 287
        },
        "id": "3BW3ArlJx89C",
        "outputId": "82176ca9-f238-4a80-cc1d-f11381d50037"
      },
      "execution_count": null,
      "outputs": [
        {
          "output_type": "execute_result",
          "data": {
            "text/plain": [
              "<matplotlib.image.AxesImage at 0x7f735fa2fc50>"
            ]
          },
          "metadata": {},
          "execution_count": 22
        },
        {
          "output_type": "display_data",
          "data": {
            "text/plain": [
              "<Figure size 432x288 with 1 Axes>"
            ],
            "image/png": "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\n"
          },
          "metadata": {
            "needs_background": "light"
          }
        }
      ]
    },
    {
      "cell_type": "code",
      "source": [
        "#cv2.imshow(\"Output-Keypoints\",image)\n",
        "#cv2.waitKey(0)\n",
        "\n",
        "# 이미지 복사\n",
        "imageCopy = image\n",
        "\n",
        "# 각 POSE_PAIRS별로 선 그어줌 (머리 - 목, 목 - 왼쪽어깨, ...)\n",
        "for pair in POSE_PAIRS:\n",
        "    partA = pair[0]             # Head\n",
        "    partA = BODY_PARTS[partA]   # 0\n",
        "    partB = pair[1]             # Neck\n",
        "    partB = BODY_PARTS[partB]   # 1\n",
        "    \n",
        "    #print(partA,\" 와 \", partB, \" 연결\\n\")\n",
        "    if points[partA] and points[partB]:\n",
        "        cv2.line(imageCopy, points[partA], points[partB], (0, 255, 0), 2)\n",
        "\n",
        "\n",
        "#cv2.imshow(\"Output-Keypoints\",imageCopy)\n",
        "#cv2.waitKey(0)\n",
        "#cv2.destroyAllWindows()"
      ],
      "metadata": {
        "id": "j88TW5vXnfqa"
      },
      "execution_count": null,
      "outputs": []
    },
    {
      "cell_type": "code",
      "source": [
        "plt.imshow(imageCopy)"
      ],
      "metadata": {
        "colab": {
          "base_uri": "https://localhost:8080/",
          "height": 287
        },
        "id": "cUJrjOjRyQtC",
        "outputId": "f20a8422-53a3-450a-ceb9-7c68b53393dc"
      },
      "execution_count": null,
      "outputs": [
        {
          "output_type": "execute_result",
          "data": {
            "text/plain": [
              "<matplotlib.image.AxesImage at 0x7f735f9adb10>"
            ]
          },
          "metadata": {},
          "execution_count": 24
        },
        {
          "output_type": "display_data",
          "data": {
            "text/plain": [
              "<Figure size 432x288 with 1 Axes>"
            ],
            "image/png": "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\n"
          },
          "metadata": {
            "needs_background": "light"
          }
        }
      ]
    },
    {
      "cell_type": "markdown",
      "source": [
        "## 영상처리해보기"
      ],
      "metadata": {
        "id": "8KW44x3o0PSI"
      }
    },
    {
      "cell_type": "code",
      "source": [
        "from scipy.spatial import distance as dist \n",
        "import numpy as np \n",
        "import pandas as pd \n",
        "import progressbar \n",
        "import cv2"
      ],
      "metadata": {
        "id": "ovIJR7Pv15gB"
      },
      "execution_count": null,
      "outputs": []
    },
    {
      "cell_type": "code",
      "source": [
        "# 각 파일 path \n",
        "protoFile = \"./drive/MyDrive/OpenPose/pose_deploy_linevec_faster_4_stages.prototxt\" \n",
        "weightsFile = \"./drive/MyDrive/OpenPose/pose_iter_160000.caffemodel\" \n",
        "# 위의 path에 있는 network 불러오기 \n",
        "net = cv2.dnn.readNetFromCaffe(protoFile, weightsFile) "
      ],
      "metadata": {
        "id": "p4-tGMXe1_w3"
      },
      "execution_count": null,
      "outputs": []
    },
    {
      "cell_type": "code",
      "source": [
        "video = cv2.VideoCapture(\"./drive/MyDrive/OpenPose/A002_RGB.mp4\")\n",
        "type(video)"
      ],
      "metadata": {
        "colab": {
          "base_uri": "https://localhost:8080/"
        },
        "id": "8tZygcRn2Ccg",
        "outputId": "04379c47-152d-438b-9e28-9d80180dcaf3"
      },
      "execution_count": null,
      "outputs": [
        {
          "output_type": "execute_result",
          "data": {
            "text/plain": [
              "cv2.VideoCapture"
            ]
          },
          "metadata": {},
          "execution_count": 27
        }
      ]
    },
    {
      "cell_type": "markdown",
      "source": [
        "cv2.VideoCapture()"
      ],
      "metadata": {
        "id": "rQhXImZxG8DY"
      }
    },
    {
      "cell_type": "markdown",
      "source": [
        "![videocap.PNG](data:image/png;base64,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)"
      ],
      "metadata": {
        "id": "xwHb6oZqG3d3"
      }
    },
    {
      "cell_type": "code",
      "source": [
        "n_frames=int(video.get(cv2.CAP_PROP_FRAME_COUNT))\n",
        "n_frames"
      ],
      "metadata": {
        "colab": {
          "base_uri": "https://localhost:8080/"
        },
        "id": "i2HE_jDZ2O2i",
        "outputId": "204711b8-b7d3-40ef-a1c3-acb12cf7f4cf"
      },
      "execution_count": null,
      "outputs": [
        {
          "output_type": "execute_result",
          "data": {
            "text/plain": [
              "118"
            ]
          },
          "metadata": {},
          "execution_count": 28
        }
      ]
    },
    {
      "cell_type": "code",
      "source": [
        "fps=int(video.get(cv2.CAP_PROP_FPS)) "
      ],
      "metadata": {
        "id": "WO0BXXHM2mz5"
      },
      "execution_count": null,
      "outputs": []
    },
    {
      "cell_type": "code",
      "source": [
        "fps"
      ],
      "metadata": {
        "colab": {
          "base_uri": "https://localhost:8080/"
        },
        "id": "dunpz49gHycQ",
        "outputId": "489e6b1a-66ea-456d-d921-efc329c349ff"
      },
      "execution_count": null,
      "outputs": [
        {
          "output_type": "execute_result",
          "data": {
            "text/plain": [
              "30"
            ]
          },
          "metadata": {},
          "execution_count": 30
        }
      ]
    },
    {
      "cell_type": "code",
      "source": [
        "ok, frame = video.read() "
      ],
      "metadata": {
        "id": "gzJ7UHGx2oOQ"
      },
      "execution_count": null,
      "outputs": []
    },
    {
      "cell_type": "code",
      "source": [
        "ok"
      ],
      "metadata": {
        "colab": {
          "base_uri": "https://localhost:8080/"
        },
        "id": "vZizb5Zu7esb",
        "outputId": "7ac47651-2d81-46d7-cb1d-e3a1ca0beecf"
      },
      "execution_count": null,
      "outputs": [
        {
          "output_type": "execute_result",
          "data": {
            "text/plain": [
              "True"
            ]
          },
          "metadata": {},
          "execution_count": 33
        }
      ]
    },
    {
      "cell_type": "code",
      "source": [
        "frame.shape"
      ],
      "metadata": {
        "colab": {
          "base_uri": "https://localhost:8080/"
        },
        "id": "ym-RcGxUHHDP",
        "outputId": "5ece8db5-4753-4b16-99ab-82005f5ef6e3"
      },
      "execution_count": null,
      "outputs": [
        {
          "output_type": "execute_result",
          "data": {
            "text/plain": [
              "(720, 1280, 3)"
            ]
          },
          "metadata": {},
          "execution_count": 34
        }
      ]
    },
    {
      "cell_type": "code",
      "source": [
        "(frameHeight, frameWidth) = frame.shape[:2] "
      ],
      "metadata": {
        "id": "YxCvWP6w2o2l"
      },
      "execution_count": null,
      "outputs": []
    },
    {
      "cell_type": "code",
      "source": [
        "frameHeight"
      ],
      "metadata": {
        "colab": {
          "base_uri": "https://localhost:8080/"
        },
        "id": "iSKx9pA0HMM-",
        "outputId": "85ed71d5-3545-48ed-d560-cc524dbff3ef"
      },
      "execution_count": null,
      "outputs": [
        {
          "output_type": "execute_result",
          "data": {
            "text/plain": [
              "720"
            ]
          },
          "metadata": {},
          "execution_count": 36
        }
      ]
    },
    {
      "cell_type": "code",
      "source": [
        "h=400 \n",
        "w=int((h/frameHeight)*frameWidth)"
      ],
      "metadata": {
        "id": "6NNuZnAA2zz5"
      },
      "execution_count": null,
      "outputs": []
    },
    {
      "cell_type": "code",
      "source": [
        "w"
      ],
      "metadata": {
        "colab": {
          "base_uri": "https://localhost:8080/"
        },
        "id": "5deZXkUV20xd",
        "outputId": "ae227436-3739-45f8-94b0-e66f762e0dfa"
      },
      "execution_count": null,
      "outputs": [
        {
          "output_type": "execute_result",
          "data": {
            "text/plain": [
              "711"
            ]
          },
          "metadata": {},
          "execution_count": 39
        }
      ]
    },
    {
      "cell_type": "code",
      "source": [
        "inHeight=368 \n",
        "inWidth=368 \n",
        "out_path = './drive/MyDrive/OpenPose/test/out_test.mp4'"
      ],
      "metadata": {
        "id": "ou3MeLnw24I6"
      },
      "execution_count": null,
      "outputs": []
    },
    {
      "cell_type": "code",
      "source": [
        "# Define the output \n",
        "output = cv2.VideoWriter(out_path, 0, fps, (w, h)) "
      ],
      "metadata": {
        "id": "tH8vWG7p26Ih"
      },
      "execution_count": null,
      "outputs": []
    },
    {
      "cell_type": "markdown",
      "source": [
        "영상을 저장하기 위해서는 cv2.VideoWriter Object를 생성해야 합니다.\n",
        "\n",
        "cv2.VideoWriter(outputFile, fourcc, frame, size)\n",
        "영상을 저장하기 위한 Object\n",
        "\n",
        "Parameters:\t\n",
        "\n",
        "outputFile (str) – 저장될 파일명\n",
        "\n",
        "fourcc – Codec정보. cv2.VideoWriter_fourcc()\n",
        "\n",
        "frame (float) – 초당 저장될 frame\n",
        "\n",
        "size (list) – 저장될 사이즈(ex; 640, 480)"
      ],
      "metadata": {
        "id": "9jXbDU7pH1yb"
      }
    },
    {
      "cell_type": "code",
      "source": [
        "fourcc = cv2.VideoWriter_fourcc(*'DIVX')"
      ],
      "metadata": {
        "id": "igEBkA843Dyc"
      },
      "execution_count": null,
      "outputs": []
    },
    {
      "cell_type": "code",
      "source": [
        "writer = None \n",
        "(f_h, f_w) = (h, w) \n",
        "zeros = None "
      ],
      "metadata": {
        "id": "JJIeO5IY3Gbh"
      },
      "execution_count": null,
      "outputs": []
    },
    {
      "cell_type": "code",
      "source": [
        "data = [] \n",
        "previous_x, previous_y = [0,0,0,0,0,0,0,0,0,0,0,0,0,0,0],[0,0,0,0,0,0,0,0,0,0,0,0,0,0,0]"
      ],
      "metadata": {
        "id": "6mrxJtDi3KoB"
      },
      "execution_count": null,
      "outputs": []
    },
    {
      "cell_type": "code",
      "source": [
        "len(previous_x)"
      ],
      "metadata": {
        "colab": {
          "base_uri": "https://localhost:8080/"
        },
        "id": "Mwu9vOXH3K9j",
        "outputId": "cd5abe99-1e21-4416-db72-2e73f8475148"
      },
      "execution_count": null,
      "outputs": [
        {
          "output_type": "execute_result",
          "data": {
            "text/plain": [
              "15"
            ]
          },
          "metadata": {},
          "execution_count": 47
        }
      ]
    },
    {
      "cell_type": "code",
      "source": [
        "# There are 15 points in the skeleton \n",
        "pairs = [[0,1], # head \n",
        "         [1,2],[1,5], # sholders \n",
        "         [2,3],[3,4],[5,6],[6,7], # arms \n",
        "         [1,14],[14,11],[14,8], # hips \n",
        "         [8,9],[9,10],[11,12],[12,13]] # legs "
      ],
      "metadata": {
        "id": "Su6G81xo3Qrw"
      },
      "execution_count": null,
      "outputs": []
    },
    {
      "cell_type": "code",
      "source": [
        "# probability threshold for prediction of the coordinates \n",
        "thresh = 0.1 \n",
        "circle_color, line_color = (0,255,255), (0,255,0) "
      ],
      "metadata": {
        "id": "ut23rzF13k5I"
      },
      "execution_count": null,
      "outputs": []
    },
    {
      "cell_type": "code",
      "source": [
        "# Set up the progressbar \n",
        "widgets = [\"--[INFO]-- Analyzing Video: \", progressbar.Percentage(), \" \", progressbar.Bar(), \" \", progressbar.ETA()] \n",
        "pbar = progressbar.ProgressBar(maxval = n_frames, widgets=widgets).start() \n",
        "p = 0 "
      ],
      "metadata": {
        "colab": {
          "base_uri": "https://localhost:8080/"
        },
        "id": "owiHUi0W3lNC",
        "outputId": "826b896b-9156-4655-93fc-dcba578ca6c7"
      },
      "execution_count": null,
      "outputs": [
        {
          "output_type": "stream",
          "name": "stderr",
          "text": [
            "\r                                                                               \r\r--[INFO]-- Analyzing Video: N/A% |                             | ETA:  --:--:--"
          ]
        }
      ]
    },
    {
      "cell_type": "code",
      "source": [
        "# Start the iteration \n",
        "while True: \n",
        "  ok, frame = video.read() \n",
        "  if ok != True: \n",
        "    break \n",
        "  \n",
        "  frame = cv2.resize(frame, (w, h), cv2.INTER_AREA) \n",
        "  frame_copy = np.copy(frame) \n",
        "  \n",
        "  # Input the frame into the model \n",
        "  inpBlob = cv2.dnn.blobFromImage(frame_copy, 1.0 / 255, (inWidth, inHeight), (0, 0, 0), swapRB=False, crop=False) \n",
        "  net.setInput(inpBlob) \n",
        "  output = net.forward() \n",
        "  H = output.shape[2] \n",
        "  W = output.shape[3] \n",
        "  points = [] \n",
        "  x_data, y_data = [], [] \n",
        "  \n",
        "  # Iterate through the returned output and store the data \n",
        "  for i in range(15): \n",
        "    probMap = output[0, i, :, :] \n",
        "    minVal, prob, minLoc, point = cv2.minMaxLoc(probMap) \n",
        "    x = (w * point[0]) / W \n",
        "    y = (h * point[1]) / H \n",
        "    \n",
        "    if prob > thresh: \n",
        "      points.append((int(x), int(y))) \n",
        "      x_data.append(x) \n",
        "      y_data.append(y) \n",
        "    else : \n",
        "      points.append((0, 0)) \n",
        "      x_data.append(previous_x[i]) \n",
        "      y_data.append(previous_y[i]) \n",
        "    \n",
        "  for i in range(len(points)): \n",
        "    cv2.circle(frame_copy, (points[i][0], points[i][1]), 2, circle_color, -1) \n",
        "    \n",
        "  for pair in pairs: \n",
        "    partA = pair[0] \n",
        "    partB = pair[1] \n",
        "    cv2.line(frame_copy, points[partA], points[partB], line_color, 1, lineType=cv2.LINE_AA) \n",
        "      \n",
        "  if writer is None: \n",
        "    writer = cv2.VideoWriter(out_path, fourcc, fps, (f_w, f_h), True) \n",
        "    zeros = np.zeros((f_h, f_w), dtype=\"uint8\") \n",
        "    \n",
        "  writer.write(cv2.resize(frame_copy,(f_w, f_h))) \n",
        "  #cv2.imshow('frame' ,frame_copy) \n",
        "    \n",
        "  data.append(x_data + y_data) \n",
        "  previous_x, previous_y = x_data, y_data \n",
        "  p += 1 \n",
        "  pbar.update(p) \n",
        "  #key = cv2.waitKey(1) & 0xFF \n",
        "  #if key == ord(\"q\"): \n",
        "  #  break \n",
        "    \n",
        "csv_path = './drive/MyDrive/OpenPose/test/out_test1.csv' # Save the output data from the video in CSV format \n",
        "df = pd.DataFrame(data) \n",
        "df.to_csv(csv_path, index = False) \n",
        "print('save complete') \n",
        "pbar.finish() \n",
        "video.release()\n",
        "writer.release() \n",
        "cv2.destroyAllWindows()"
      ],
      "metadata": {
        "colab": {
          "base_uri": "https://localhost:8080/"
        },
        "id": "--GM1NV00QhW",
        "outputId": "9245b905-0c97-41ed-e769-830ff021233a"
      },
      "execution_count": null,
      "outputs": [
        {
          "output_type": "stream",
          "name": "stderr",
          "text": [
            "--[INFO]-- Analyzing Video: 100% |#############################| Time:  0:12:22\n"
          ]
        },
        {
          "output_type": "stream",
          "name": "stdout",
          "text": [
            "save complete\n"
          ]
        }
      ]
    },
    {
      "cell_type": "markdown",
      "source": [
        "해결해야할 문제\n",
        "1. 성능\n",
        "* 초당 프레임 수를 낮춰야지 그나마 빠르게 가능할듯\n",
        "* 현재 3.xxx초 자리 동영상 1초에 30frame 할시 총 118개 이미지 처리하는데 대충 8~9분 걸림.\n",
        "* 아니면, 프레임 사진 사이즈의 크기를 줄여서 전체 계산량을 줄이는 방식도 존재할 듯.\n",
        "\n",
        "2. MPII 모델이 아닌 COCO모델의 POSE, LINE 정의법\n",
        "\n",
        "\n",
        "3. 비디오 캡처 당시 프레임 수 (capture.set()이 작동을 잘안함 이유 찾아볼것)\n",
        "* 방법1 : JAVA에서 비디오 제어에서 처리하는 방법도 존재\n",
        "* 방법2 : JAVA에서 비디오 객체만 넘겨주는 방식\n",
        "\n",
        "4. OpenPose를 안드로이드 앱에 이식하는 방법\n",
        "-> OpenPose도 안드로이드용 버전이 있는 것으로 보여짐\n",
        "\n",
        "\n",
        "5. 분류모델 : TF.LITE를 이용하여 배포하는 거 생각중\n",
        "\n",
        "6. 코덱 문제 : 현재 해본 결과, DIVX, MP4V, XVID로 저장 후 열리지가 않음."
      ],
      "metadata": {
        "id": "4D6IsZXDBKkl"
      }
    },
    {
      "cell_type": "markdown",
      "source": [
        "의문점\n",
        "1. JAVA와 파이썬으로 모델 구현 후 기기에 어떻게 이식할 것인가에 대한 문제\n"
      ],
      "metadata": {
        "id": "xEoSk7sVLfGW"
      }
    },
    {
      "cell_type": "markdown",
      "source": [
        "## 개선된 비디오 캡처"
      ],
      "metadata": {
        "id": "8so3wiBW_mKl"
      }
    },
    {
      "cell_type": "code",
      "source": [
        "video = cv2.VideoCapture(\"./drive/MyDrive/OpenPose/A002_RGB.mp4\")\n",
        "type(video)"
      ],
      "metadata": {
        "colab": {
          "base_uri": "https://localhost:8080/"
        },
        "id": "9GkZlV_mCF1z",
        "outputId": "f2ea1767-0419-4c17-f720-29db6768a243"
      },
      "execution_count": null,
      "outputs": [
        {
          "output_type": "execute_result",
          "data": {
            "text/plain": [
              "cv2.VideoCapture"
            ]
          },
          "metadata": {},
          "execution_count": 67
        }
      ]
    },
    {
      "cell_type": "code",
      "source": [
        "out_path = './drive/MyDrive/OpenPose/test/out_test_revise.mp4'\n",
        "output = cv2.VideoWriter(out_path, 0, fps, (w, h)) \n",
        "fourcc = cv2.VideoWriter_fourcc(*'DIVX')"
      ],
      "metadata": {
        "id": "Ov7YNBepCSza"
      },
      "execution_count": null,
      "outputs": []
    },
    {
      "cell_type": "code",
      "source": [
        "writer = None \n",
        "(f_h, f_w) = (h, w) \n",
        "zeros = None "
      ],
      "metadata": {
        "id": "8uxhDP1x_zqK"
      },
      "execution_count": null,
      "outputs": []
    },
    {
      "cell_type": "code",
      "source": [
        "# There are 15 points in the skeleton \n",
        "pairs = [[0,1], # head \n",
        "         [1,2],[1,5], # sholders \n",
        "         [2,3],[3,4],[5,6],[6,7], # arms \n",
        "         [1,14],[14,11],[14,8], # hips \n",
        "         [8,9],[9,10],[11,12],[12,13]] # legs "
      ],
      "metadata": {
        "id": "ttf6Mnbi_z_K"
      },
      "execution_count": null,
      "outputs": []
    },
    {
      "cell_type": "code",
      "source": [
        "# Set up the progressbar \n",
        "widgets = [\"--[INFO]-- Analyzing Video: \", progressbar.Percentage(), \" \", progressbar.Bar(), \" \", progressbar.ETA()] \n",
        "pbar = progressbar.ProgressBar(maxval = n_frames, widgets=widgets).start() \n",
        "p = 0 "
      ],
      "metadata": {
        "colab": {
          "base_uri": "https://localhost:8080/"
        },
        "id": "bcg749-M_uh7",
        "outputId": "b51aeea0-10af-4a48-8cd1-7fb75d461886"
      },
      "execution_count": null,
      "outputs": [
        {
          "output_type": "stream",
          "name": "stderr",
          "text": [
            "\r                                                                               \r\r--[INFO]-- Analyzing Video: N/A% |                             | ETA:  --:--:--"
          ]
        }
      ]
    },
    {
      "cell_type": "code",
      "source": [
        "data = [] "
      ],
      "metadata": {
        "id": "H_cHEYyuGNdS"
      },
      "execution_count": null,
      "outputs": []
    },
    {
      "cell_type": "code",
      "source": [
        "# Start the iteration \n",
        "while True: \n",
        "  ok, frame = video.read() \n",
        "  if ok != True: \n",
        "    break \n",
        "  \n",
        "  frame = cv2.resize(frame, (w, h), cv2.INTER_AREA) \n",
        "  frame_copy = np.copy(frame) \n",
        "  \n",
        "  # Input the frame into the model \n",
        "  inpBlob = cv2.dnn.blobFromImage(frame_copy, 1.0 / 255, (inWidth, inHeight), (0, 0, 0), swapRB=False, crop=False) \n",
        "  net.setInput(inpBlob) \n",
        "  output = net.forward() \n",
        "  H = output.shape[2] \n",
        "  W = output.shape[3] \n",
        "  points = [] \n",
        "  x_data, y_data = [], [] \n",
        "  \n",
        "  # Iterate through the returned output and store the data \n",
        "  for i in range(15): \n",
        "    probMap = output[0, i, :, :] \n",
        "    minVal, prob, minLoc, point = cv2.minMaxLoc(probMap) \n",
        "    x = (w * point[0]) / W \n",
        "    y = (h * point[1]) / H \n",
        "    \n",
        "    if prob > thresh:\n",
        "      cv2.circle(frame_copy, (int(x), int(y)), 3, (0, 255, 255), thickness=-1, lineType=cv2.FILLED)       # circle(그릴곳, 원의 중심, 반지름, 색) \n",
        "      points.append((int(x), int(y))) \n",
        "      x_data.append(x) \n",
        "      y_data.append(y) \n",
        "    else : \n",
        "      points.append(None) \n",
        "      x_data.append(None) \n",
        "      y_data.append(None) \n",
        "    \n",
        "  for pair in pairs: \n",
        "    partA = pair[0] \n",
        "    partB = pair[1]\n",
        "    if points[partA] and points[partB]:\n",
        "        cv2.line(frame_copy, points[partA], points[partB], line_color, 2,lineType=cv2.LINE_AA)  \n",
        "\n",
        "  if writer is None: \n",
        "    writer = cv2.VideoWriter(out_path, fourcc, fps, (f_w, f_h), True) \n",
        "    zeros = np.zeros((f_h, f_w), dtype=\"uint8\") \n",
        "    \n",
        "  writer.write(cv2.resize(frame_copy,(f_w, f_h))) \n",
        "  #cv2.imshow('frame' ,frame_copy) \n",
        "    \n",
        "  data.append(x_data + y_data) \n",
        "  previous_x, previous_y = x_data, y_data \n",
        "  p += 1 \n",
        "  pbar.update(p) \n",
        "  #key = cv2.waitKey(1) & 0xFF \n",
        "  #if key == ord(\"q\"): \n",
        "  #  break \n",
        "    \n",
        "csv_path = './drive/MyDrive/OpenPose/test/out_test1.csv' # Save the output data from the video in CSV format \n",
        "df = pd.DataFrame(data) \n",
        "df.to_csv(csv_path, index = False) \n",
        "print('save complete') \n",
        "pbar.finish() \n",
        "video.release()\n",
        "writer.release() \n",
        "cv2.destroyAllWindows()"
      ],
      "metadata": {
        "colab": {
          "base_uri": "https://localhost:8080/"
        },
        "id": "VQ-bsq4K_lxF",
        "outputId": "a9655d76-3d20-485e-8d3a-cd70ac579ac1"
      },
      "execution_count": null,
      "outputs": [
        {
          "output_type": "stream",
          "name": "stderr",
          "text": [
            "--[INFO]-- Analyzing Video: 100% |#############################| Time:  0:09:40\n"
          ]
        },
        {
          "output_type": "stream",
          "name": "stdout",
          "text": [
            "save complete\n"
          ]
        }
      ]
    },
    {
      "cell_type": "markdown",
      "source": [
        "## Skeleton 파악 후 csv 파일 변환만 처리"
      ],
      "metadata": {
        "id": "EqqSa68rNI-X"
      }
    },
    {
      "cell_type": "markdown",
      "source": [
        "어차피, 결과적으로 스켈레톤 구조를 영상에 포함시킬 이유는 없음\n",
        "\n",
        "결국, csv 파일로 골격 구조 데이터만 받아오면 되는 거임.\n",
        "\n",
        "이 때의 속도는? \n",
        "\n",
        "영상 처리 및 csv : 9분 40초\n",
        "\n",
        "csv : 9분 24초"
      ],
      "metadata": {
        "id": "bmqhpPiQMlY6"
      }
    },
    {
      "cell_type": "code",
      "source": [
        "video = cv2.VideoCapture(\"./drive/MyDrive/OpenPose/A002_RGB.mp4\")\n",
        "type(video)"
      ],
      "metadata": {
        "colab": {
          "base_uri": "https://localhost:8080/"
        },
        "id": "QRgS9uodM7Vg",
        "outputId": "cf2aece9-e904-430b-8686-2a0144d14326"
      },
      "execution_count": null,
      "outputs": [
        {
          "output_type": "execute_result",
          "data": {
            "text/plain": [
              "cv2.VideoCapture"
            ]
          },
          "metadata": {},
          "execution_count": 74
        }
      ]
    },
    {
      "cell_type": "code",
      "source": [
        "# There are 15 points in the skeleton \n",
        "pairs = [[0,1], # head \n",
        "         [1,2],[1,5], # sholders \n",
        "         [2,3],[3,4],[5,6],[6,7], # arms \n",
        "         [1,14],[14,11],[14,8], # hips \n",
        "         [8,9],[9,10],[11,12],[12,13]] # legs "
      ],
      "metadata": {
        "id": "M8V5JFMhNCew"
      },
      "execution_count": null,
      "outputs": []
    },
    {
      "cell_type": "code",
      "source": [
        "# Set up the progressbar \n",
        "widgets = [\"--[INFO]-- Analyzing Video: \", progressbar.Percentage(), \" \", progressbar.Bar(), \" \", progressbar.ETA()] \n",
        "pbar = progressbar.ProgressBar(maxval = n_frames, widgets=widgets).start() \n",
        "p = 0 "
      ],
      "metadata": {
        "colab": {
          "base_uri": "https://localhost:8080/"
        },
        "id": "ELOzGlOVNEM5",
        "outputId": "6f624d44-f741-4b21-d0f7-d90fd02a6b9c"
      },
      "execution_count": null,
      "outputs": [
        {
          "output_type": "stream",
          "name": "stderr",
          "text": [
            "\r                                                                               \r\r--[INFO]-- Analyzing Video: N/A% |                             | ETA:  --:--:--"
          ]
        }
      ]
    },
    {
      "cell_type": "code",
      "source": [
        "data = [] "
      ],
      "metadata": {
        "id": "-nV70Kw9NGjh"
      },
      "execution_count": null,
      "outputs": []
    },
    {
      "cell_type": "code",
      "source": [
        "# Start the iteration \n",
        "while True: \n",
        "  ok, frame = video.read() \n",
        "  if ok != True: \n",
        "    break \n",
        "  \n",
        "  frame = cv2.resize(frame, (w, h), cv2.INTER_AREA) \n",
        "  frame_copy = np.copy(frame) \n",
        "  \n",
        "  # Input the frame into the model \n",
        "  inpBlob = cv2.dnn.blobFromImage(frame_copy, 1.0 / 255, (inWidth, inHeight), (0, 0, 0), swapRB=False, crop=False) \n",
        "  net.setInput(inpBlob) \n",
        "  output = net.forward() \n",
        "  H = output.shape[2] \n",
        "  W = output.shape[3] \n",
        "  points = [] \n",
        "  x_data, y_data = [], [] \n",
        "  \n",
        "  # Iterate through the returned output and store the data \n",
        "  for i in range(15): \n",
        "    probMap = output[0, i, :, :] \n",
        "    minVal, prob, minLoc, point = cv2.minMaxLoc(probMap) \n",
        "    x = (w * point[0]) / W \n",
        "    y = (h * point[1]) / H \n",
        "    \n",
        "    if prob > thresh: \n",
        "      points.append((int(x), int(y))) \n",
        "      x_data.append(x) \n",
        "      y_data.append(y) \n",
        "    else : \n",
        "      points.append(None) \n",
        "      x_data.append(None) \n",
        "      y_data.append(None) \n",
        "       \n",
        "  data.append(x_data + y_data) \n",
        "  previous_x, previous_y = x_data, y_data \n",
        "  p += 1 \n",
        "  pbar.update(p) \n",
        "  #key = cv2.waitKey(1) & 0xFF \n",
        "  #if key == ord(\"q\"): \n",
        "  #  break \n",
        "    \n",
        "csv_path = './drive/MyDrive/OpenPose/test/out_test_csv1.csv' # Save the output data from the video in CSV format \n",
        "df = pd.DataFrame(data) \n",
        "df.to_csv(csv_path, index = False) \n",
        "print('save complete') \n",
        "pbar.finish() \n",
        "video.release() \n",
        "cv2.destroyAllWindows()"
      ],
      "metadata": {
        "colab": {
          "base_uri": "https://localhost:8080/"
        },
        "id": "pswRI3LGNHtS",
        "outputId": "8a4e6186-cbfc-4a78-c8aa-d3a44dab76f3"
      },
      "execution_count": null,
      "outputs": [
        {
          "output_type": "stream",
          "name": "stderr",
          "text": [
            "--[INFO]-- Analyzing Video: 100% |#############################| Time:  0:10:32\n"
          ]
        },
        {
          "output_type": "stream",
          "name": "stdout",
          "text": [
            "save complete\n"
          ]
        }
      ]
    },
    {
      "cell_type": "markdown",
      "source": [
        "영상에 골격 구조를 안그리더라도 시간 차이가 크지 않다.\n",
        "\n",
        "-> 프레임 수와 사진 크기를 줄이는 방식을 사용해야 할 듯"
      ],
      "metadata": {
        "id": "P2wNziNSP2yZ"
      }
    },
    {
      "cell_type": "markdown",
      "source": [
        "그리고, 이게 영상이 정해진 기간만 들어오는게 아닌, 연속해서 계속 들어오니까,\n",
        "\n",
        "행동 분류 동작 시에, 프레임을 앞 프레임과 뒷 프레임을 연결해서 처리해야할 듯\n",
        "\n",
        "1초에 2프레임씩 가정 후, 2초 단위로 분류\n",
        "\n",
        "ex) 처음 1분짜리 영상이 들어오면\n",
        "\n",
        "\n",
        "1. \n",
        "앞에 마스킹 프레임 1초 (2프레임) \n",
        "1초 (2프레임)\n",
        "\n",
        "2. \n",
        "1초 (2프레임)\n",
        "2초 (2프레임)\n",
        "\n",
        ".....\n",
        "\n",
        "60. \n",
        "59초 (2프레임)\n",
        "60초 (2프레임)"
      ],
      "metadata": {
        "id": "S5G1NnLOQA-1"
      }
    },
    {
      "cell_type": "markdown",
      "source": [
        "## 데이터 받아온 것 처리해보기"
      ],
      "metadata": {
        "id": "QMLGkoVTUENI"
      }
    },
    {
      "cell_type": "code",
      "source": [
        "video = cv2.VideoCapture(\"./A001_P001_G001_C001.mp4\")\n",
        "type(video)"
      ],
      "metadata": {
        "colab": {
          "base_uri": "https://localhost:8080/"
        },
        "id": "yvuXYps4TQHX",
        "outputId": "33071665-5843-4d5d-b7ab-3ec25a0a84f6"
      },
      "execution_count": null,
      "outputs": [
        {
          "output_type": "execute_result",
          "data": {
            "text/plain": [
              "cv2.VideoCapture"
            ]
          },
          "metadata": {},
          "execution_count": 79
        }
      ]
    },
    {
      "cell_type": "code",
      "source": [
        "n_frames=int(video.get(cv2.CAP_PROP_FRAME_COUNT))\n",
        "n_frames"
      ],
      "metadata": {
        "colab": {
          "base_uri": "https://localhost:8080/"
        },
        "id": "wijLDP_KTe7h",
        "outputId": "7cd156c4-881b-41b7-ae2a-39ea5be9b500"
      },
      "execution_count": null,
      "outputs": [
        {
          "output_type": "execute_result",
          "data": {
            "text/plain": [
              "161"
            ]
          },
          "metadata": {},
          "execution_count": 80
        }
      ]
    },
    {
      "cell_type": "code",
      "source": [
        "fps=int(video.get(cv2.CAP_PROP_FPS)) "
      ],
      "metadata": {
        "id": "MWqyPKMGTpJI"
      },
      "execution_count": null,
      "outputs": []
    },
    {
      "cell_type": "code",
      "source": [
        "fps"
      ],
      "metadata": {
        "colab": {
          "base_uri": "https://localhost:8080/"
        },
        "id": "Hkh3_V8CTp7x",
        "outputId": "c5d81f59-d721-440e-de51-4e97c247939c"
      },
      "execution_count": null,
      "outputs": [
        {
          "output_type": "execute_result",
          "data": {
            "text/plain": [
              "20"
            ]
          },
          "metadata": {},
          "execution_count": 83
        }
      ]
    },
    {
      "cell_type": "code",
      "source": [
        "ok, frame = video.read()"
      ],
      "metadata": {
        "id": "HRoIEkQATuiw"
      },
      "execution_count": null,
      "outputs": []
    },
    {
      "cell_type": "code",
      "source": [
        "frame.shape"
      ],
      "metadata": {
        "colab": {
          "base_uri": "https://localhost:8080/"
        },
        "id": "0QTpn3ccT4YR",
        "outputId": "ba3536e0-076c-490d-a640-ef2b505653f7"
      },
      "execution_count": null,
      "outputs": [
        {
          "output_type": "execute_result",
          "data": {
            "text/plain": [
              "(1080, 1920, 3)"
            ]
          },
          "metadata": {},
          "execution_count": 85
        }
      ]
    },
    {
      "cell_type": "code",
      "source": [
        "(frameHeight, frameWidth) = frame.shape[:2] "
      ],
      "metadata": {
        "id": "1DfuT_1xT5w-"
      },
      "execution_count": null,
      "outputs": []
    },
    {
      "cell_type": "code",
      "source": [
        "h=400 \n",
        "w=int((h/frameHeight)*frameWidth)"
      ],
      "metadata": {
        "id": "0PXcdZrBT6zX"
      },
      "execution_count": null,
      "outputs": []
    },
    {
      "cell_type": "code",
      "source": [
        "inHeight=368 \n",
        "inWidth=368 \n",
        "out_path = './drive/MyDrive/OpenPose/test/out_test2.mp4'"
      ],
      "metadata": {
        "id": "-T5BkH9tUC2w"
      },
      "execution_count": null,
      "outputs": []
    },
    {
      "cell_type": "code",
      "source": [
        "# Define the output \n",
        "output = cv2.VideoWriter(out_path, 0, fps, (w, h)) "
      ],
      "metadata": {
        "id": "FAP5IAWDUUV5"
      },
      "execution_count": null,
      "outputs": []
    },
    {
      "cell_type": "code",
      "source": [
        "fourcc = cv2.VideoWriter_fourcc(*'DIVX')\n",
        "writer = None \n",
        "(f_h, f_w) = (h, w) \n",
        "zeros = None "
      ],
      "metadata": {
        "id": "fVldKSe_UTeX"
      },
      "execution_count": null,
      "outputs": []
    },
    {
      "cell_type": "code",
      "source": [
        "# There are 15 points in the skeleton \n",
        "pairs = [[0,1], # head \n",
        "         [1,2],[1,5], # sholders \n",
        "         [2,3],[3,4],[5,6],[6,7], # arms \n",
        "         [1,14],[14,11],[14,8], # hips \n",
        "         [8,9],[9,10],[11,12],[12,13]] # legs "
      ],
      "metadata": {
        "id": "QWJzyELOTTgI"
      },
      "execution_count": null,
      "outputs": []
    },
    {
      "cell_type": "code",
      "source": [
        "# Set up the progressbar \n",
        "widgets = [\"--[INFO]-- Analyzing Video: \", progressbar.Percentage(), \" \", progressbar.Bar(), \" \", progressbar.ETA()] \n",
        "pbar = progressbar.ProgressBar(maxval = n_frames, widgets=widgets).start() \n",
        "p = 0 "
      ],
      "metadata": {
        "colab": {
          "base_uri": "https://localhost:8080/"
        },
        "id": "S1CUsmm5TVIY",
        "outputId": "32abee87-0ea2-48ce-b220-4bd9d4498316"
      },
      "execution_count": null,
      "outputs": [
        {
          "output_type": "stream",
          "name": "stderr",
          "text": [
            "\r                                                                               \r\r--[INFO]-- Analyzing Video: N/A% |                             | ETA:  --:--:--"
          ]
        }
      ]
    },
    {
      "cell_type": "code",
      "source": [
        "data = [] "
      ],
      "metadata": {
        "id": "pKSD2t_nTWrA"
      },
      "execution_count": null,
      "outputs": []
    },
    {
      "cell_type": "code",
      "source": [
        "# Start the iteration \n",
        "while True: \n",
        "  ok, frame = video.read() \n",
        "  if ok != True: \n",
        "    break \n",
        "  \n",
        "  frame = cv2.resize(frame, (w, h), cv2.INTER_AREA) \n",
        "  frame_copy = np.copy(frame) \n",
        "  \n",
        "  # Input the frame into the model \n",
        "  inpBlob = cv2.dnn.blobFromImage(frame_copy, 1.0 / 255, (inWidth, inHeight), (0, 0, 0), swapRB=False, crop=False) \n",
        "  net.setInput(inpBlob) \n",
        "  output = net.forward() \n",
        "  H = output.shape[2] \n",
        "  W = output.shape[3] \n",
        "  points = [] \n",
        "  x_data, y_data = [], [] \n",
        "  \n",
        "  # Iterate through the returned output and store the data \n",
        "  for i in range(15): \n",
        "    probMap = output[0, i, :, :] \n",
        "    minVal, prob, minLoc, point = cv2.minMaxLoc(probMap) \n",
        "    x = (w * point[0]) / W \n",
        "    y = (h * point[1]) / H \n",
        "    \n",
        "    if prob > thresh:\n",
        "      cv2.circle(frame_copy, (int(x), int(y)), 3, (0, 255, 255), thickness=-1, lineType=cv2.FILLED)       # circle(그릴곳, 원의 중심, 반지름, 색) \n",
        "      points.append((int(x), int(y))) \n",
        "      x_data.append(x) \n",
        "      y_data.append(y) \n",
        "    else : \n",
        "      points.append(None) \n",
        "      x_data.append(None) \n",
        "      y_data.append(None) \n",
        "    \n",
        "  for pair in pairs: \n",
        "    partA = pair[0] \n",
        "    partB = pair[1]\n",
        "    if points[partA] and points[partB]:\n",
        "        cv2.line(frame_copy, points[partA], points[partB], line_color, 2,lineType=cv2.LINE_AA)  \n",
        "\n",
        "  if writer is None: \n",
        "    writer = cv2.VideoWriter(out_path, fourcc, fps, (f_w, f_h), True) \n",
        "    zeros = np.zeros((f_h, f_w), dtype=\"uint8\") \n",
        "    \n",
        "  writer.write(cv2.resize(frame_copy,(f_w, f_h))) \n",
        "  #cv2.imshow('frame' ,frame_copy) \n",
        "    \n",
        "  data.append(x_data + y_data) \n",
        "  previous_x, previous_y = x_data, y_data \n",
        "  p += 1 \n",
        "  pbar.update(p) \n",
        "  #key = cv2.waitKey(1) & 0xFF \n",
        "  #if key == ord(\"q\"): \n",
        "  #  break \n",
        "    \n",
        "csv_path = './drive/MyDrive/OpenPose/test/out_test2.csv' # Save the output data from the video in CSV format \n",
        "df = pd.DataFrame(data) \n",
        "df.to_csv(csv_path, index = False) \n",
        "print('save complete') \n",
        "pbar.finish() \n",
        "video.release()\n",
        "writer.release() \n",
        "cv2.destroyAllWindows()"
      ],
      "metadata": {
        "colab": {
          "base_uri": "https://localhost:8080/"
        },
        "id": "RnGCLlfYTY9O",
        "outputId": "373eb2cc-6071-499e-c9cc-d37a2f3bc17c"
      },
      "execution_count": null,
      "outputs": [
        {
          "output_type": "stream",
          "name": "stderr",
          "text": [
            "--[INFO]-- Analyzing Video: 100% |#############################| Time:  0:13:34\n"
          ]
        },
        {
          "output_type": "stream",
          "name": "stdout",
          "text": [
            "save complete\n"
          ]
        }
      ]
    },
    {
      "cell_type": "code",
      "source": [
        "cd \"/content/drive/MyDrive\""
      ],
      "metadata": {
        "colab": {
          "base_uri": "https://localhost:8080/"
        },
        "id": "KYgWgSOn_PnF",
        "outputId": "78674f1e-23df-416c-b2f9-2497f1a5890d"
      },
      "execution_count": null,
      "outputs": [
        {
          "output_type": "stream",
          "name": "stdout",
          "text": [
            "/content/drive/MyDrive\n"
          ]
        }
      ]
    },
    {
      "cell_type": "code",
      "source": [
        "new_model = tf.keras.models.load_model('saved_model/my_model')"
      ],
      "metadata": {
        "colab": {
          "base_uri": "https://localhost:8080/"
        },
        "id": "vpPovc4r_GzV",
        "outputId": "ef983efe-146e-4413-cdb5-427d9cedf3c7"
      },
      "execution_count": null,
      "outputs": [
        {
          "output_type": "stream",
          "name": "stdout",
          "text": [
            "WARNING:tensorflow:No training configuration found in save file, so the model was *not* compiled. Compile it manually.\n"
          ]
        }
      ]
    },
    {
      "cell_type": "code",
      "source": [
        "new_model.summary()"
      ],
      "metadata": {
        "colab": {
          "base_uri": "https://localhost:8080/"
        },
        "id": "AYSHrNjk_JCw",
        "outputId": "dc60b550-0e95-4100-eb0b-d2ca3d58a86c"
      },
      "execution_count": null,
      "outputs": [
        {
          "output_type": "stream",
          "name": "stdout",
          "text": [
            "Model: \"OpenPose2BrVGG\"\n",
            "_________________________________________________________________\n",
            " Layer (type)                Output Shape              Param #   \n",
            "=================================================================\n",
            " VGG (NetModule)             multiple                  52311446  \n",
            "                                                                 \n",
            "=================================================================\n",
            "Total params: 52,311,446\n",
            "Trainable params: 52,311,446\n",
            "Non-trainable params: 0\n",
            "_________________________________________________________________\n"
          ]
        }
      ]
    },
    {
      "cell_type": "code",
      "source": [
        "# COCO에서 각 파트 번호, 선으로 연결될 POSE_PAIRS\n",
        "BODY_PARTS = { \"Nose\": 0, \"Neck\": 1, \"RShoulder\": 2, \"RElbow\": 3, \"RWrist\": 4,\n",
        "                \"LShoulder\": 5, \"LElbow\": 6, \"LWrist\": 7, \"RHip\": 8, \"RKnee\": 9,\n",
        "                \"RAnkle\": 10, \"LHip\": 11, \"LKnee\": 12, \"LAnkle\": 13, \"Reye\": 14,\n",
        "                \"Leye\": 15 ,\"REar\":16,\"LEar\":17}\n",
        "\n",
        "POSE_PAIRS = [[\"Neck\",\"RShoulder\"], [\"Neck\",\"LShoulder\"], [\"RShoulder\",\"RElbow\"], [\"RElbow\",\"RWrist\"], [\"LShoulder\",\"LElbow\"], [\"LElbow\",\"LWrist\"],\n",
        "              [\"Neck\",\"RHip\"], [\"RHip\",\"RKnee\"], [\"RKnee\",\"RAnkle\"], [\"Neck\",\"LHip\"], [\"LHip\",\"LKnee\"], [\"LKnee\",\"LAnkle\"],\n",
        "              [\"Neck\",\"Nose\"], [\"Nose\",\"Reye\"], [\"Reye\",\"REar\"], [\"Nose\",\"Leye\"], [\"Leye\",\"LEar\"],\n",
        "              [\"RShoulder\",\"LEar\"], [\"LShoulder\",\"REar\"] ]"
      ],
      "metadata": {
        "id": "I5FdPb74_dYl"
      },
      "execution_count": null,
      "outputs": []
    },
    {
      "cell_type": "code",
      "source": [
        "# 이미지 읽어오기\n",
        "image = cv2.imread(\"OpenPose/test_image2.jpg\",cv2.IMREAD_COLOR)"
      ],
      "metadata": {
        "id": "8SmzMXSm_nlE"
      },
      "execution_count": null,
      "outputs": []
    },
    {
      "cell_type": "code",
      "source": [
        "image=cv2.cvtColor(image, cv2.COLOR_BGR2RGB)"
      ],
      "metadata": {
        "id": "i0g4-P0eAbTl"
      },
      "execution_count": null,
      "outputs": []
    },
    {
      "cell_type": "code",
      "source": [
        "image2 = cv2.resize(image, dsize=(368, 368), interpolation=cv2.INTER_AREA)"
      ],
      "metadata": {
        "id": "Y74Q7jQuCPjz"
      },
      "execution_count": null,
      "outputs": []
    },
    {
      "cell_type": "code",
      "source": [
        "image2.shape"
      ],
      "metadata": {
        "colab": {
          "base_uri": "https://localhost:8080/"
        },
        "id": "SQDQFak6AKij",
        "outputId": "8a2b8620-f9f3-4f0e-c88c-dac765d1d047"
      },
      "execution_count": null,
      "outputs": [
        {
          "output_type": "execute_result",
          "data": {
            "text/plain": [
              "(368, 368, 3)"
            ]
          },
          "metadata": {},
          "execution_count": 31
        }
      ]
    },
    {
      "cell_type": "code",
      "source": [
        "plt.imshow(image2)"
      ],
      "metadata": {
        "colab": {
          "base_uri": "https://localhost:8080/",
          "height": 287
        },
        "id": "aZx5ymIlAVNE",
        "outputId": "d8450539-721d-4226-ed8a-e8a161f5c15a"
      },
      "execution_count": null,
      "outputs": [
        {
          "output_type": "execute_result",
          "data": {
            "text/plain": [
              "<matplotlib.image.AxesImage at 0x7f60c114e3d0>"
            ]
          },
          "metadata": {},
          "execution_count": 33
        },
        {
          "output_type": "display_data",
          "data": {
            "text/plain": [
              "<Figure size 432x288 with 1 Axes>"
            ],
            "image/png": "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\n"
          },
          "metadata": {
            "needs_background": "light"
          }
        }
      ]
    },
    {
      "cell_type": "code",
      "source": [
        "# frame.shape = 불러온 이미지에서 height, width, color 받아옴\n",
        "imageHeight, imageWidth, _ = image2.shape\n",
        "imageHeight"
      ],
      "metadata": {
        "colab": {
          "base_uri": "https://localhost:8080/"
        },
        "id": "8j7PtRPaAjtc",
        "outputId": "4fbb8e43-36a4-4243-aae3-e6566712cc65"
      },
      "execution_count": null,
      "outputs": [
        {
          "output_type": "execute_result",
          "data": {
            "text/plain": [
              "368"
            ]
          },
          "metadata": {},
          "execution_count": 34
        }
      ]
    },
    {
      "cell_type": "code",
      "source": [
        "test_image = '/content/drive/MyDrive/tensorflow_Realtime_Multi-Person_Pose_Estimation/resources/ski_368.jpg'\n",
        "oriImg = cv2.imread(test_image)"
      ],
      "metadata": {
        "id": "bGtUH7AVEhnD"
      },
      "execution_count": null,
      "outputs": []
    },
    {
      "cell_type": "code",
      "source": [
        "image = cv2.imread(\"OpenPose/test_image2.jpg\",cv2.IMREAD_COLOR)\n",
        "image=cv2.cvtColor(image, cv2.COLOR_BGR2RGB)\n",
        "image2 = cv2.resize(image, dsize=(368, 368), interpolation=cv2.INTER_AREA)"
      ],
      "metadata": {
        "id": "mdhizge5EyjJ"
      },
      "execution_count": null,
      "outputs": []
    },
    {
      "cell_type": "code",
      "source": [
        "image3=np.transpose(np.float32(image2[:,:,:,np.newaxis]), (3,0,1,2))"
      ],
      "metadata": {
        "id": "K7icOsXiFSBc"
      },
      "execution_count": null,
      "outputs": []
    },
    {
      "cell_type": "code",
      "source": [
        "image3.shape"
      ],
      "metadata": {
        "colab": {
          "base_uri": "https://localhost:8080/"
        },
        "id": "tb87090pFWKw",
        "outputId": "bd8bfa75-0f1d-47ba-d54f-46c1ff71ec03"
      },
      "execution_count": null,
      "outputs": [
        {
          "output_type": "execute_result",
          "data": {
            "text/plain": [
              "(1, 368, 368, 3)"
            ]
          },
          "metadata": {},
          "execution_count": 55
        }
      ]
    },
    {
      "cell_type": "code",
      "source": [
        "type(image3)"
      ],
      "metadata": {
        "colab": {
          "base_uri": "https://localhost:8080/"
        },
        "id": "aO3poCF6FhXP",
        "outputId": "31025d25-716e-4920-85a2-2ab0e1b7a268"
      },
      "execution_count": null,
      "outputs": [
        {
          "output_type": "execute_result",
          "data": {
            "text/plain": [
              "numpy.ndarray"
            ]
          },
          "metadata": {},
          "execution_count": 60
        }
      ]
    },
    {
      "cell_type": "code",
      "source": [
        "output=new_model.predict(image3)"
      ],
      "metadata": {
        "id": "0VQnXwBsAqp2"
      },
      "execution_count": null,
      "outputs": []
    },
    {
      "cell_type": "code",
      "source": [
        "output[10].shape"
      ],
      "metadata": {
        "colab": {
          "base_uri": "https://localhost:8080/"
        },
        "id": "Jdf9PZq8A5ua",
        "outputId": "4e7fe415-30bb-4336-a6f3-9367beed6207"
      },
      "execution_count": null,
      "outputs": [
        {
          "output_type": "execute_result",
          "data": {
            "text/plain": [
              "(1, 46, 46, 38)"
            ]
          },
          "metadata": {},
          "execution_count": 58
        }
      ]
    },
    {
      "cell_type": "code",
      "source": [
        "output[11].shape"
      ],
      "metadata": {
        "colab": {
          "base_uri": "https://localhost:8080/"
        },
        "id": "chGGFscaE5T7",
        "outputId": "d1299bdb-112c-4b81-b4dd-ff8bf97f132e"
      },
      "execution_count": null,
      "outputs": [
        {
          "output_type": "execute_result",
          "data": {
            "text/plain": [
              "(1, 46, 46, 19)"
            ]
          },
          "metadata": {},
          "execution_count": 59
        }
      ]
    },
    {
      "cell_type": "code",
      "source": [
        "H = output[11].shape[1]\n",
        "W = output[11].shape[2]"
      ],
      "metadata": {
        "id": "PlyKS2svFfYz"
      },
      "execution_count": null,
      "outputs": []
    },
    {
      "cell_type": "code",
      "source": [
        "H"
      ],
      "metadata": {
        "colab": {
          "base_uri": "https://localhost:8080/"
        },
        "id": "01g-1GoeF7ev",
        "outputId": "4bac1f2a-3c85-45d5-c5e9-7118bdc207b5"
      },
      "execution_count": null,
      "outputs": [
        {
          "output_type": "execute_result",
          "data": {
            "text/plain": [
              "46"
            ]
          },
          "metadata": {},
          "execution_count": 63
        }
      ]
    },
    {
      "cell_type": "code",
      "source": [
        "conf=output[11]"
      ],
      "metadata": {
        "id": "Uzkj7nQSGFyq"
      },
      "execution_count": null,
      "outputs": []
    },
    {
      "cell_type": "code",
      "source": [
        "conf.shape"
      ],
      "metadata": {
        "colab": {
          "base_uri": "https://localhost:8080/"
        },
        "id": "3s5e8SpNGMww",
        "outputId": "b6864405-bf08-4bf3-f1cc-9315db7e75fb"
      },
      "execution_count": null,
      "outputs": [
        {
          "output_type": "execute_result",
          "data": {
            "text/plain": [
              "(1, 46, 46, 19)"
            ]
          },
          "metadata": {},
          "execution_count": 66
        }
      ]
    },
    {
      "cell_type": "code",
      "source": [
        "points = []\n",
        "for i in range(0,18):\n",
        "    # 해당 신체부위 신뢰도 얻음.\n",
        "    probMap = conf[0, :, :, i]\n",
        " \n",
        "    # global 최대값 찾기\n",
        "    minVal, prob, minLoc, point = cv2.minMaxLoc(probMap)\n",
        "\n",
        "    # 원래 이미지에 맞게 점 위치 변경\n",
        "    x = (imageWidth * point[0]) / W\n",
        "    y = (imageHeight * point[1]) / H\n",
        "\n",
        "    # 키포인트 검출한 결과가 0.1보다 크면(검출한곳이 위 BODY_PARTS랑 맞는 부위면) points에 추가, 검출했는데 부위가 없으면 None으로    \n",
        "    if prob > 0.1 :    \n",
        "        cv2.circle(image2, (int(x), int(y)), 3, (0, 255, 255), thickness=-1, lineType=cv2.FILLED)       # circle(그릴곳, 원의 중심, 반지름, 색)\n",
        "        cv2.putText(image2, \"{}\".format(i), (int(x), int(y)), cv2.FONT_HERSHEY_SIMPLEX, 0.5, (0, 0, 255), 1, lineType=cv2.LINE_AA)\n",
        "        points.append((int(x), int(y)))\n",
        "    else :\n",
        "        points.append(None)"
      ],
      "metadata": {
        "id": "SqA5HBGgF17G"
      },
      "execution_count": null,
      "outputs": []
    },
    {
      "cell_type": "code",
      "source": [
        "plt.imshow(image2)"
      ],
      "metadata": {
        "colab": {
          "base_uri": "https://localhost:8080/",
          "height": 287
        },
        "id": "-5rFL3GaGXk-",
        "outputId": "399076c4-d4c2-4eff-fb6e-1a8229968235"
      },
      "execution_count": null,
      "outputs": [
        {
          "output_type": "execute_result",
          "data": {
            "text/plain": [
              "<matplotlib.image.AxesImage at 0x7f60c3c3d550>"
            ]
          },
          "metadata": {},
          "execution_count": 70
        },
        {
          "output_type": "display_data",
          "data": {
            "text/plain": [
              "<Figure size 432x288 with 1 Axes>"
            ],
            "image/png": "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\n"
          },
          "metadata": {
            "needs_background": "light"
          }
        }
      ]
    },
    {
      "cell_type": "code",
      "source": [
        "# 이미지 복사\n",
        "imageCopy = image2\n",
        "\n",
        "# 각 POSE_PAIRS별로 선 그어줌 (머리 - 목, 목 - 왼쪽어깨, ...)\n",
        "for pair in POSE_PAIRS:\n",
        "    partA = pair[0]             # Head\n",
        "    partA = BODY_PARTS[partA]   # 0\n",
        "    partB = pair[1]             # Neck\n",
        "    partB = BODY_PARTS[partB]   # 1\n",
        "    \n",
        "    #print(partA,\" 와 \", partB, \" 연결\\n\")\n",
        "    if points[partA] and points[partB]:\n",
        "        cv2.line(imageCopy, points[partA], points[partB], (0, 255, 0), 2)\n",
        "\n",
        "\n",
        "#cv2.imshow(\"Output-Keypoints\",imageCopy)\n",
        "#cv2.waitKey(0)\n",
        "#cv2.destroyAllWindows()"
      ],
      "metadata": {
        "id": "Ih6EJWbJGuOj"
      },
      "execution_count": null,
      "outputs": []
    },
    {
      "cell_type": "code",
      "source": [
        "plt.imshow(imageCopy)"
      ],
      "metadata": {
        "colab": {
          "base_uri": "https://localhost:8080/",
          "height": 287
        },
        "id": "koxsuQ56G3Uz",
        "outputId": "7280c45f-3dca-4036-d2b3-41adb9dc3d38"
      },
      "execution_count": null,
      "outputs": [
        {
          "output_type": "execute_result",
          "data": {
            "text/plain": [
              "<matplotlib.image.AxesImage at 0x7f60c3c0ed10>"
            ]
          },
          "metadata": {},
          "execution_count": 72
        },
        {
          "output_type": "display_data",
          "data": {
            "text/plain": [
              "<Figure size 432x288 with 1 Axes>"
            ],
            "image/png": "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\n"
          },
          "metadata": {
            "needs_background": "light"
          }
        }
      ]
    },
    {
      "cell_type": "code",
      "source": [
        "image = cv2.imread(\"OpenPose/test/0.jpg\",cv2.IMREAD_COLOR)"
      ],
      "metadata": {
        "id": "3vxF-aDMG60K"
      },
      "execution_count": null,
      "outputs": []
    },
    {
      "cell_type": "code",
      "source": [
        "image.shape"
      ],
      "metadata": {
        "colab": {
          "base_uri": "https://localhost:8080/"
        },
        "id": "jkmQLWyJHXYx",
        "outputId": "95a2ad6f-d4ca-4f87-bbeb-820a4f725fc5"
      },
      "execution_count": null,
      "outputs": [
        {
          "output_type": "execute_result",
          "data": {
            "text/plain": [
              "(1080, 1920, 3)"
            ]
          },
          "metadata": {},
          "execution_count": 74
        }
      ]
    },
    {
      "cell_type": "code",
      "source": [
        "image=cv2.cvtColor(image, cv2.COLOR_BGR2RGB)\n",
        "image2 = cv2.resize(image, dsize=(368, 368), interpolation=cv2.INTER_AREA)\n",
        "image3=np.transpose(np.float32(image2[:,:,:,np.newaxis]), (3,0,1,2))"
      ],
      "metadata": {
        "id": "-vl48PkdHYjB"
      },
      "execution_count": null,
      "outputs": []
    },
    {
      "cell_type": "code",
      "source": [
        "image3.shape"
      ],
      "metadata": {
        "colab": {
          "base_uri": "https://localhost:8080/"
        },
        "id": "4oUAOV0fHa2B",
        "outputId": "c2fe084c-bed3-4cea-826d-e9f4dadd082a"
      },
      "execution_count": null,
      "outputs": [
        {
          "output_type": "execute_result",
          "data": {
            "text/plain": [
              "(1, 368, 368, 3)"
            ]
          },
          "metadata": {},
          "execution_count": 76
        }
      ]
    },
    {
      "cell_type": "code",
      "source": [
        "conf=new_model.predict(image3)[11]"
      ],
      "metadata": {
        "id": "CHxh7naYHb4N"
      },
      "execution_count": null,
      "outputs": []
    },
    {
      "cell_type": "code",
      "source": [
        "conf.shape"
      ],
      "metadata": {
        "colab": {
          "base_uri": "https://localhost:8080/"
        },
        "id": "VluOzcBAHh6J",
        "outputId": "71f70b42-927c-4209-cc20-93e6dc531100"
      },
      "execution_count": null,
      "outputs": [
        {
          "output_type": "execute_result",
          "data": {
            "text/plain": [
              "(1, 46, 46, 19)"
            ]
          },
          "metadata": {},
          "execution_count": 78
        }
      ]
    },
    {
      "cell_type": "code",
      "source": [
        "points = []\n",
        "for i in range(0,18):\n",
        "    # 해당 신체부위 신뢰도 얻음.\n",
        "    probMap = conf[0, :, :, i]\n",
        " \n",
        "    # global 최대값 찾기\n",
        "    minVal, prob, minLoc, point = cv2.minMaxLoc(probMap)\n",
        "\n",
        "    # 원래 이미지에 맞게 점 위치 변경\n",
        "    x = (imageWidth * point[0]) / W\n",
        "    y = (imageHeight * point[1]) / H\n",
        "\n",
        "    # 키포인트 검출한 결과가 0.1보다 크면(검출한곳이 위 BODY_PARTS랑 맞는 부위면) points에 추가, 검출했는데 부위가 없으면 None으로    \n",
        "    if prob > 0.1 :    \n",
        "        cv2.circle(image2, (int(x), int(y)), 3, (0, 255, 255), thickness=-1, lineType=cv2.FILLED)       # circle(그릴곳, 원의 중심, 반지름, 색)\n",
        "        cv2.putText(image2, \"{}\".format(i), (int(x), int(y)), cv2.FONT_HERSHEY_SIMPLEX, 0.5, (0, 0, 255), 1, lineType=cv2.LINE_AA)\n",
        "        points.append((int(x), int(y)))\n",
        "    else :\n",
        "        points.append(None)"
      ],
      "metadata": {
        "id": "YPdkkqvHHi8d"
      },
      "execution_count": null,
      "outputs": []
    },
    {
      "cell_type": "code",
      "source": [
        "plt.imshow(image2)"
      ],
      "metadata": {
        "colab": {
          "base_uri": "https://localhost:8080/",
          "height": 287
        },
        "id": "veIB2-Y3Hlvr",
        "outputId": "52ded2cc-26cd-4b33-b6f8-4418801a12c0"
      },
      "execution_count": null,
      "outputs": [
        {
          "output_type": "execute_result",
          "data": {
            "text/plain": [
              "<matplotlib.image.AxesImage at 0x7f60c4368790>"
            ]
          },
          "metadata": {},
          "execution_count": 80
        },
        {
          "output_type": "display_data",
          "data": {
            "text/plain": [
              "<Figure size 432x288 with 1 Axes>"
            ],
            "image/png": "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\n"
          },
          "metadata": {
            "needs_background": "light"
          }
        }
      ]
    },
    {
      "cell_type": "code",
      "source": [
        "# 이미지 복사\n",
        "imageCopy = image2\n",
        "\n",
        "# 각 POSE_PAIRS별로 선 그어줌 (머리 - 목, 목 - 왼쪽어깨, ...)\n",
        "for pair in POSE_PAIRS:\n",
        "    partA = pair[0]             # Head\n",
        "    partA = BODY_PARTS[partA]   # 0\n",
        "    partB = pair[1]             # Neck\n",
        "    partB = BODY_PARTS[partB]   # 1\n",
        "    \n",
        "    #print(partA,\" 와 \", partB, \" 연결\\n\")\n",
        "    if points[partA] and points[partB]:\n",
        "        cv2.line(imageCopy, points[partA], points[partB], (0, 255, 0), 2)\n",
        "\n",
        "\n",
        "#cv2.imshow(\"Output-Keypoints\",imageCopy)\n",
        "#cv2.waitKey(0)\n",
        "#cv2.destroyAllWindows()"
      ],
      "metadata": {
        "id": "nVaqXxDlHoTO"
      },
      "execution_count": null,
      "outputs": []
    },
    {
      "cell_type": "code",
      "source": [
        "plt.imshow(imageCopy)"
      ],
      "metadata": {
        "colab": {
          "base_uri": "https://localhost:8080/",
          "height": 287
        },
        "id": "5a9vj6ZAHsmw",
        "outputId": "5461e819-ec86-4cf8-f698-eb8609fe4205"
      },
      "execution_count": null,
      "outputs": [
        {
          "output_type": "execute_result",
          "data": {
            "text/plain": [
              "<matplotlib.image.AxesImage at 0x7f60c43b3710>"
            ]
          },
          "metadata": {},
          "execution_count": 82
        },
        {
          "output_type": "display_data",
          "data": {
            "text/plain": [
              "<Figure size 432x288 with 1 Axes>"
            ],
            "image/png": "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\n"
          },
          "metadata": {
            "needs_background": "light"
          }
        }
      ]
    },
    {
      "cell_type": "code",
      "source": [
        "name=str(1)+'.jpg'"
      ],
      "metadata": {
        "id": "REbZQRipLomK"
      },
      "execution_count": null,
      "outputs": []
    },
    {
      "cell_type": "code",
      "source": [
        "name"
      ],
      "metadata": {
        "colab": {
          "base_uri": "https://localhost:8080/",
          "height": 35
        },
        "id": "KBAgfHChLsS9",
        "outputId": "99cfe3c7-976d-44d6-8e8e-17b7ba75e1ee"
      },
      "execution_count": null,
      "outputs": [
        {
          "output_type": "execute_result",
          "data": {
            "text/plain": [
              "'1.jpg'"
            ],
            "application/vnd.google.colaboratory.intrinsic+json": {
              "type": "string"
            }
          },
          "metadata": {},
          "execution_count": 86
        }
      ]
    },
    {
      "cell_type": "code",
      "source": [
        "filepath=\"OpenPose/test/\"+name"
      ],
      "metadata": {
        "id": "Bi_2A1EJLuWy"
      },
      "execution_count": null,
      "outputs": []
    },
    {
      "cell_type": "code",
      "source": [
        "filepath"
      ],
      "metadata": {
        "colab": {
          "base_uri": "https://localhost:8080/",
          "height": 35
        },
        "id": "NrdusKycLxpa",
        "outputId": "2537c1ee-e4e1-476b-c3fc-302411820ab3"
      },
      "execution_count": null,
      "outputs": [
        {
          "output_type": "execute_result",
          "data": {
            "text/plain": [
              "'OpenPose/test/1.jpg'"
            ],
            "application/vnd.google.colaboratory.intrinsic+json": {
              "type": "string"
            }
          },
          "metadata": {},
          "execution_count": 88
        }
      ]
    },
    {
      "cell_type": "code",
      "source": [
        "image = cv2.imread(filepath,cv2.IMREAD_COLOR)"
      ],
      "metadata": {
        "id": "-QyzVcwUL2hT"
      },
      "execution_count": null,
      "outputs": []
    },
    {
      "cell_type": "code",
      "source": [
        "plt.imshow(image)"
      ],
      "metadata": {
        "colab": {
          "base_uri": "https://localhost:8080/",
          "height": 258
        },
        "id": "6Gi2cC-4L24z",
        "outputId": "57c4a689-d15d-4144-9c4b-0d827f3f8168"
      },
      "execution_count": null,
      "outputs": [
        {
          "output_type": "execute_result",
          "data": {
            "text/plain": [
              "<matplotlib.image.AxesImage at 0x7f60c41a7a10>"
            ]
          },
          "metadata": {},
          "execution_count": 90
        },
        {
          "output_type": "display_data",
          "data": {
            "text/plain": [
              "<Figure size 432x288 with 1 Axes>"
            ],
            
          "metadata": {
            "needs_background": "light"
          }
        }
      ]
    },
    {
      "cell_type": "code",
      "source": [
        "for id in range(0,30):\n",
        "    filename=str(id)+'.jpg'\n",
        "    filepath=\"OpenPose/test/\"+filename\n",
        "    image = cv2.imread(filepath,cv2.IMREAD_COLOR)\n",
        "    image=cv2.cvtColor(image, cv2.COLOR_BGR2RGB)\n",
        "    image2 = cv2.resize(image, dsize=(368, 368), interpolation=cv2.INTER_AREA)\n",
        "    image3=np.transpose(np.float32(image2[:,:,:,np.newaxis]), (3,0,1,2))\n",
        "    conf=new_model.predict(image3)[11]\n",
        "    points = []\n",
        "    for i in range(0,18):\n",
        "        # 해당 신체부위 신뢰도 얻음.\n",
        "        probMap = conf[0, :, :, i]\n",
        "    \n",
        "        # global 최대값 찾기\n",
        "        minVal, prob, minLoc, point = cv2.minMaxLoc(probMap)\n",
        "\n",
        "        # 원래 이미지에 맞게 점 위치 변경\n",
        "        x = (imageWidth * point[0]) / W\n",
        "        y = (imageHeight * point[1]) / H\n",
        "\n",
        "        # 키포인트 검출한 결과가 0.1보다 크면(검출한곳이 위 BODY_PARTS랑 맞는 부위면) points에 추가, 검출했는데 부위가 없으면 None으로    \n",
        "        if prob > 0.1 :    \n",
        "            cv2.circle(image2, (int(x), int(y)), 3, (0, 255, 255), thickness=-1, lineType=cv2.FILLED)       # circle(그릴곳, 원의 중심, 반지름, 색)\n",
        "            cv2.putText(image2, \"{}\".format(i), (int(x), int(y)), cv2.FONT_HERSHEY_SIMPLEX, 0.5, (0, 0, 255), 1, lineType=cv2.LINE_AA)\n",
        "            points.append((int(x), int(y)))\n",
        "        else :\n",
        "            points.append(None)\n",
        "\n",
        "    imageCopy = image2\n",
        "\n",
        "    # 각 POSE_PAIRS별로 선 그어줌 (머리 - 목, 목 - 왼쪽어깨, ...)\n",
        "    for pair in POSE_PAIRS:\n",
        "        partA = pair[0]             # Head\n",
        "        partA = BODY_PARTS[partA]   # 0\n",
        "        partB = pair[1]             # Neck\n",
        "        partB = BODY_PARTS[partB]   # 1\n",
        "        \n",
        "        #print(partA,\" 와 \", partB, \" 연결\\n\")\n",
        "        if points[partA] and points[partB]:\n",
        "            cv2.line(imageCopy, points[partA], points[partB], (0, 255, 0), 2)\n",
        "\n",
        "    cv2.imwrite(\"OpenPose/test/test_tensor/%d.jpg\" % id, imageCopy)"
      ],
      "metadata": {
        "id": "4QnGJVYKHvRV"
      },
      "execution_count": null,
      "outputs": []
    }
  ]
}
