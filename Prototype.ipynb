{
  "cells": [
    {
      "cell_type": "markdown",
      "metadata": {
        "id": "view-in-github",
        "colab_type": "text"
      },
      "source": [
        "<a href=\"https://colab.research.google.com/github/ttjh1234/CSproject_SDA/blob/main/Prototype.ipynb\" target=\"_parent\"><img src=\"https://colab.research.google.com/assets/colab-badge.svg\" alt=\"Open In Colab\"/></a>"
      ]
    },
    {
      "cell_type": "markdown",
      "metadata": {
        "id": "YjxDamfMy0Tp"
      },
      "source": [
        "# 프로토타입"
      ]
    },
    {
      "cell_type": "markdown",
      "metadata": {
        "id": "oSOfq894y2iH"
      },
      "source": [
        "## 모델 테스트 해보기"
      ]
    },
    {
      "cell_type": "markdown",
      "metadata": {
        "id": "WgUa_-lHy4x_"
      },
      "source": [
        "6번 사람 1번 행동과 55번 행동에 대해서 테스트 한 번 해보기\n",
        "\n",
        "해보면서 전체적으로 필요한 부분들 체크하기"
      ]
    },
    {
      "cell_type": "markdown",
      "metadata": {
        "id": "Hl9j__zWzLWi"
      },
      "source": [
        "### 필요 라이브러리 및 사용자 정의 함수"
      ]
    },
    {
      "cell_type": "code",
      "execution_count": null,
      "metadata": {
        "id": "dGhaYMtozPGy"
      },
      "outputs": [],
      "source": [
        "import cv2\n",
        "import matplotlib.pyplot as plt\n",
        "import numpy as np\n",
        "import pandas as pd\n",
        "import zipfile\n",
        "import os\n",
        "import tensorflow as tf\n",
        "from tensorflow import keras\n",
        "import re"
      ]
    },
    {
      "cell_type": "code",
      "execution_count": null,
      "metadata": {
        "colab": {
          "base_uri": "https://localhost:8080/"
        },
        "id": "iMhDjYNazVfQ",
        "outputId": "de6b59ec-7c32-4d85-ab9e-de575a26b87a"
      },
      "outputs": [
        {
          "output_type": "stream",
          "name": "stdout",
          "text": [
            "WARNING:tensorflow:No training configuration found in save file, so the model was *not* compiled. Compile it manually.\n"
          ]
        }
      ],
      "source": [
        "myopenpose=tf.keras.models.load_model('/content/drive/MyDrive/save_model/openpose_singlenet')\n",
        "my3d=keras.models.load_model(\"./drive/MyDrive/save_model/3dpose\")\n",
        "mystgcn=keras.models.load_model(\"./drive/MyDrive/save_model/stgcnrevision2\")"
      ]
    },
    {
      "cell_type": "code",
      "execution_count": null,
      "metadata": {
        "id": "ksENCwduyxPT"
      },
      "outputs": [],
      "source": [
        "def making_pose_input(df):\n",
        "  final_input=[]\n",
        "  if ((df.iloc[8][0]!= None) & (df.iloc[8][1]!=None))&((df.iloc[11][0] != None) & (df.iloc[11][1] != None)):\n",
        "    hip=((df.iloc[8][0]+df.iloc[11][0])/2,(df.iloc[8][1]+df.iloc[11][1])/2)\n",
        "    final_input.append(np.float32(hip))\n",
        "  else:\n",
        "    final_input.append((np.nan,np.nan))\n",
        "  right_hip=df.iloc[8]\n",
        "  final_input.append(np.float32(right_hip))\n",
        "  right_knee=df.iloc[9]\n",
        "  final_input.append(np.float32(right_knee))\n",
        "  right_foot=df.iloc[10]\n",
        "  final_input.append(np.float32(right_foot))\n",
        "  left_hip=df.iloc[11]\n",
        "  final_input.append(np.float32(left_hip))\n",
        "  left_knee=df.iloc[12]\n",
        "  final_input.append(np.float32(left_knee))\n",
        "  left_foot=df.iloc[13]\n",
        "  final_input.append(np.float32(left_foot))\n",
        "  spine=df.iloc[1]\n",
        "  final_input.append(np.float32(spine))\n",
        "  if ((df.iloc[1][0] != None)&(df.iloc[1][1] != None))&((df.iloc[0][0] != None)&(df.iloc[0][1] != None)):\n",
        "    thorax=(df.iloc[1][0]*2-(df.iloc[0][0]+df.iloc[1][0])/2,df.iloc[1][1]*2-(df.iloc[0][1]+df.iloc[1][1])/2)\n",
        "    final_input.append(np.float32(thorax))\n",
        "  else:\n",
        "    final_input.append((np.nan,np.nan))\n",
        "  head=df.iloc[0]\n",
        "  final_input.append(np.float32(head))\n",
        "  left_shoulder=df.iloc[5]\n",
        "  final_input.append(np.float32(left_shoulder))\n",
        "  left_elbow=df.iloc[6]\n",
        "  final_input.append(np.float32(left_elbow))\n",
        "  left_wrist=df.iloc[7]\n",
        "  final_input.append(np.float32(left_wrist))\n",
        "  right_shoulder=df.iloc[2]\n",
        "  final_input.append(np.float32(right_shoulder))\n",
        "  right_elbow=df.iloc[3]\n",
        "  final_input.append(np.float32(right_elbow))\n",
        "  right_wrist=df.iloc[4]\n",
        "  final_input.append(np.float32(right_wrist))\n",
        "  return final_input"
      ]
    },
    {
      "cell_type": "code",
      "source": [
        "from google.colab import drive\n",
        "drive.mount('/content/drive')"
      ],
      "metadata": {
        "colab": {
          "base_uri": "https://localhost:8080/"
        },
        "id": "pRZX8Xr6YlVS",
        "outputId": "63083f8a-42cb-4aed-f431-7739edf8cd1d"
      },
      "execution_count": null,
      "outputs": [
        {
          "output_type": "stream",
          "name": "stdout",
          "text": [
            "Mounted at /content/drive\n"
          ]
        }
      ]
    },
    {
      "cell_type": "code",
      "execution_count": null,
      "metadata": {
        "id": "xL2ZSgmSzaV-"
      },
      "outputs": [],
      "source": [
        "# 입력 데이터 전처리 함수\n",
        "# 모델의 입력\n",
        "# 나중에 사용할 수도 있는 label 열도 일단은 생성.\n",
        "def data2d_import(path):\n",
        "  # 이미지 읽어오기\n",
        "  image = cv2.imread(path,cv2.IMREAD_COLOR)\n",
        "  image=cv2.cvtColor(image, cv2.COLOR_BGR2RGB)\n",
        "  image2 = cv2.resize(image, dsize=(368, 368), interpolation=cv2.INTER_AREA)\n",
        "  image3=np.transpose(np.float32(image2[:,:,:,np.newaxis]), (3,0,1,2))\n",
        "  return image3\n",
        "\n",
        "def data_to_skeleton(image):\n",
        "  output=myopenpose.predict(image)\n",
        "  H = output[11].shape[1]\n",
        "  W = output[11].shape[2]\n",
        "  conf=output[11]\n",
        "  imageHeight, imageWidth, _ = (368,368,3)\n",
        "  points = []\n",
        "  for i in range(0,18):\n",
        "      # 해당 신체부위 신뢰도 얻음.\n",
        "      probMap = conf[0, :, :, i]\n",
        "  \n",
        "      # global 최대값 찾기\n",
        "      minVal, prob, minLoc, point = cv2.minMaxLoc(probMap)\n",
        "\n",
        "      # 원래 이미지에 맞게 점 위치 변경\n",
        "      x = (imageWidth * point[0]) / W\n",
        "      y = (imageHeight * point[1]) / H     \n",
        "      points.append((int(x), int(y)))\n",
        "  return points\n",
        "\n",
        "def data_to_input(data):\n",
        "  temp=pd.DataFrame(columns=['x','y'])\n",
        "  x_list=[]\n",
        "  y_list=[]\n",
        "  for i in data:\n",
        "      x_list.append(i[0])\n",
        "      y_list.append(i[1])\n",
        "  temp['x']=x_list\n",
        "  temp['y']=y_list\n",
        "  list_temp=making_pose_input(temp)\n",
        "  a=pd.DataFrame(list_temp,columns=['x','y'])\n",
        "  return a\n",
        "\n",
        "\n",
        "def input_making(path):\n",
        "  image=data2d_import(path)\n",
        "  points=data_to_skeleton(image)\n",
        "  result=data_to_input(points)\n",
        "  return result "
      ]
    },
    {
      "cell_type": "code",
      "execution_count": null,
      "metadata": {
        "id": "FVwG17tSzoP_"
      },
      "outputs": [],
      "source": [
        "path1=\"/content/drive/MyDrive/cv_data/P006/A001_P006_G001_C001/\"\n",
        "path2=\"/content/drive/MyDrive/cv_data/P006/A001_P006_G001_C002/\"\n",
        "path3=\"/content/drive/MyDrive/cv_data/P006/A002_P006_G001_C001/\"\n",
        "path4=\"/content/drive/MyDrive/cv_data/P006/A003_P006_G001_C001/\"\n",
        "path5=\"/content/drive/MyDrive/cv_data/P006/A053_P006_G001_C001/\""
      ]
    },
    {
      "cell_type": "code",
      "source": [
        "x=pd.DataFrame(columns=['x','y'])\n",
        "for i in os.listdir(path1):\n",
        "  filepath=path1+i;\n",
        "  temp=input_making(filepath)\n",
        "  x=pd.concat([x,temp],axis=0)"
      ],
      "metadata": {
        "id": "CMe88rKAY_Ce"
      },
      "execution_count": null,
      "outputs": []
    },
    {
      "cell_type": "code",
      "source": [
        "x.shape"
      ],
      "metadata": {
        "colab": {
          "base_uri": "https://localhost:8080/"
        },
        "id": "ffa92wICZDrN",
        "outputId": "c9b28699-a2ec-479c-d8a2-848b1d596a95"
      },
      "execution_count": null,
      "outputs": [
        {
          "output_type": "execute_result",
          "data": {
            "text/plain": [
              "(480, 2)"
            ]
          },
          "metadata": {},
          "execution_count": 10
        }
      ]
    },
    {
      "cell_type": "code",
      "execution_count": null,
      "metadata": {
        "id": "3vmUqyCvzp96"
      },
      "outputs": [],
      "source": [
        "x=pd.DataFrame(columns=['x','y'])\n",
        "for i in os.listdir(path1):\n",
        "  filepath=path1+i;\n",
        "  temp=input_making(filepath)\n",
        "  x=pd.concat([x,temp],axis=0)\n",
        "for i in os.listdir(path2):\n",
        "  filepath=path2+i;\n",
        "  temp=input_making(filepath)\n",
        "  x=pd.concat([x,temp],axis=0)\n",
        "for i in os.listdir(path3):\n",
        "  filepath=path3+i;\n",
        "  temp=input_making(filepath)\n",
        "  x=pd.concat([x,temp],axis=0)\n",
        "for i in os.listdir(path4):\n",
        "  filepath=path4+i;\n",
        "  temp=input_making(filepath)\n",
        "  x=pd.concat([x,temp],axis=0)\n",
        "for i in os.listdir(path5):\n",
        "  filepath=path5+i;\n",
        "  temp=input_making(filepath)\n",
        "  x=pd.concat([x,temp],axis=0)"
      ]
    },
    {
      "cell_type": "code",
      "source": [
        "a=np.array(x[0:16]).reshape(1,16,2)\n",
        "for i in range(29):\n",
        "  temp=np.array(x[16*(i+1):16*(i+2)]).reshape(1,16,2)\n",
        "  a=np.concatenate([a,temp],axis=0)"
      ],
      "metadata": {
        "id": "ZYWhkTRTZhpe"
      },
      "execution_count": null,
      "outputs": []
    },
    {
      "cell_type": "code",
      "source": [
        "a.shape"
      ],
      "metadata": {
        "colab": {
          "base_uri": "https://localhost:8080/"
        },
        "id": "zf_zovFXZh_e",
        "outputId": "7e256d41-d1df-4d44-f2d8-a793da4279bb"
      },
      "execution_count": null,
      "outputs": [
        {
          "output_type": "execute_result",
          "data": {
            "text/plain": [
              "(150, 16, 2)"
            ]
          },
          "metadata": {},
          "execution_count": 9
        }
      ]
    },
    {
      "cell_type": "code",
      "execution_count": null,
      "metadata": {
        "id": "BG4E4CKm060Y"
      },
      "outputs": [],
      "source": [
        "a=np.array(x[0:16]).reshape(1,16,2)\n",
        "for i in range(29):\n",
        "  temp=np.array(x[16*(i+1):16*(i+2)]).reshape(1,16,2)\n",
        "  a=np.concatenate([a,temp],axis=0)\n",
        "for i in range(29,59,1):\n",
        "  temp=np.array(x[16*(i+1):16*(i+2)]).reshape(1,16,2)\n",
        "  a=np.concatenate([a,temp],axis=0)\n",
        "for i in range(59,89,1):\n",
        "  temp=np.array(x[16*(i+1):16*(i+2)]).reshape(1,16,2)\n",
        "  a=np.concatenate([a,temp],axis=0)\n",
        "for i in range(89,119,1):\n",
        "  temp=np.array(x[16*(i+1):16*(i+2)]).reshape(1,16,2)\n",
        "  a=np.concatenate([a,temp],axis=0)\n",
        "for i in range(119,149,1):\n",
        "  temp=np.array(x[16*(i+1):16*(i+2)]).reshape(1,16,2)\n",
        "  a=np.concatenate([a,temp],axis=0)"
      ]
    },
    {
      "cell_type": "code",
      "execution_count": null,
      "metadata": {
        "id": "UC3uVRvB2GgL",
        "colab": {
          "base_uri": "https://localhost:8080/"
        },
        "outputId": "2a5d6c32-64f4-4c78-8485-4d0d24c20b38"
      },
      "outputs": [
        {
          "output_type": "execute_result",
          "data": {
            "text/plain": [
              "TensorShape([150, 16, 2])"
            ]
          },
          "metadata": {},
          "execution_count": 10
        }
      ],
      "source": [
        "x_a=tf.stack(a)\n",
        "x_a.shape"
      ]
    },
    {
      "cell_type": "code",
      "execution_count": null,
      "metadata": {
        "id": "thafEfqj2xxS"
      },
      "outputs": [],
      "source": [
        "y_a=my3d.predict(x_a)"
      ]
    },
    {
      "cell_type": "code",
      "source": [
        "y_a.shape"
      ],
      "metadata": {
        "colab": {
          "base_uri": "https://localhost:8080/"
        },
        "id": "s1SxRyYeZ8Cn",
        "outputId": "c58a879f-e35b-4a9f-9d92-92b486b96938"
      },
      "execution_count": null,
      "outputs": [
        {
          "output_type": "execute_result",
          "data": {
            "text/plain": [
              "(150, 51)"
            ]
          },
          "metadata": {},
          "execution_count": 12
        }
      ]
    },
    {
      "cell_type": "code",
      "execution_count": null,
      "metadata": {
        "id": "8IBrLyaW2_O4"
      },
      "outputs": [],
      "source": [
        "y2=y_a.reshape(150,17,3)\n",
        "y3=y2.reshape(5,30,17,3,1)"
      ]
    },
    {
      "cell_type": "code",
      "execution_count": null,
      "metadata": {
        "id": "j6XB_csW3It2"
      },
      "outputs": [],
      "source": [
        "#y2=y_a.reshape(30,17,3)\n",
        "#y3=y2.reshape(5,30,17,3,1)\n",
        "x_b=tf.stack(y3)\n",
        "x_2=tf.transpose(x_b,[0,3,1,2,4])"
      ]
    },
    {
      "cell_type": "code",
      "execution_count": null,
      "metadata": {
        "id": "PaX6iJ5d3W52"
      },
      "outputs": [],
      "source": [
        "pred=mystgcn.predict(x_2)"
      ]
    },
    {
      "cell_type": "code",
      "execution_count": null,
      "metadata": {
        "id": "PDimSa_s3sGd"
      },
      "outputs": [],
      "source": [
        "yp=np.argmax(np.array(pred),axis=1)"
      ]
    },
    {
      "cell_type": "code",
      "execution_count": null,
      "metadata": {
        "colab": {
          "base_uri": "https://localhost:8080/"
        },
        "id": "eW15Vq2u5CUJ",
        "outputId": "39240fb6-3547-4ce5-80e2-512bcc83dbda"
      },
      "outputs": [
        {
          "output_type": "execute_result",
          "data": {
            "text/plain": [
              "array([[  9.095541 , -11.079036 ],\n",
              "       [  6.6532702,  -8.322563 ],\n",
              "       [  8.043001 , -17.053904 ],\n",
              "       [  7.092021 ,  -8.9286585],\n",
              "       [ -2.112106 ,   1.44903  ]], dtype=float32)"
            ]
          },
          "metadata": {},
          "execution_count": 19
        }
      ],
      "source": [
        "pred"
      ]
    },
    {
      "cell_type": "code",
      "execution_count": null,
      "metadata": {
        "colab": {
          "base_uri": "https://localhost:8080/"
        },
        "id": "OwXb-pTt4yl2",
        "outputId": "705030fb-5153-488b-a2ac-b147acd06d0a"
      },
      "outputs": [
        {
          "output_type": "execute_result",
          "data": {
            "text/plain": [
              "array([0, 0, 0, 0, 1])"
            ]
          },
          "metadata": {},
          "execution_count": 20
        }
      ],
      "source": [
        "yp"
      ]
    },
    {
      "cell_type": "code",
      "execution_count": null,
      "metadata": {
        "id": "b25ELm653bmu"
      },
      "outputs": [],
      "source": [
        "image = cv2.imread(\"./test.jpg\",cv2.IMREAD_COLOR)"
      ]
    },
    {
      "cell_type": "code",
      "execution_count": null,
      "metadata": {
        "colab": {
          "base_uri": "https://localhost:8080/"
        },
        "id": "3748BZG8B-JF",
        "outputId": "0e9c22fc-0e81-4dc7-ce06-1b736ab9be55"
      },
      "outputs": [
        {
          "data": {
            "text/plain": [
              "(320, 480, 3)"
            ]
          },
          "execution_count": 42,
          "metadata": {},
          "output_type": "execute_result"
        }
      ],
      "source": [
        "image"
      ]
    },
    {
      "cell_type": "code",
      "execution_count": null,
      "metadata": {
        "id": "tujwQ8HyCL59"
      },
      "outputs": [],
      "source": [
        "image=cv2.cvtColor(image, cv2.COLOR_BGR2RGB)"
      ]
    },
    {
      "cell_type": "code",
      "execution_count": null,
      "metadata": {
        "colab": {
          "base_uri": "https://localhost:8080/"
        },
        "id": "riauF7OsCT-V",
        "outputId": "08eb2347-e018-4542-8e25-02d956abde94"
      },
      "outputs": [
        {
          "data": {
            "text/plain": [
              "460800"
            ]
          },
          "execution_count": 46,
          "metadata": {},
          "output_type": "execute_result"
        }
      ],
      "source": [
        "320*480*3"
      ]
    },
    {
      "cell_type": "code",
      "execution_count": null,
      "metadata": {
        "colab": {
          "base_uri": "https://localhost:8080/"
        },
        "id": "RSrP_ZM8CcnV",
        "outputId": "accb2e4d-14a3-4d90-cfeb-7c85193803a2"
      },
      "outputs": [
        {
          "data": {
            "text/plain": [
              "array([[[ 98,  81,  55],\n",
              "        [ 98,  81,  55],\n",
              "        [ 98,  81,  55],\n",
              "        ...,\n",
              "        [113,  94,  79],\n",
              "        [113,  94,  79],\n",
              "        [113,  94,  79]],\n",
              "\n",
              "       [[ 98,  81,  55],\n",
              "        [ 98,  81,  55],\n",
              "        [ 98,  81,  55],\n",
              "        ...,\n",
              "        [113,  94,  79],\n",
              "        [113,  94,  79],\n",
              "        [113,  94,  79]],\n",
              "\n",
              "       [[ 98,  81,  55],\n",
              "        [ 98,  81,  55],\n",
              "        [ 98,  81,  55],\n",
              "        ...,\n",
              "        [113,  94,  79],\n",
              "        [113,  94,  79],\n",
              "        [113,  94,  79]],\n",
              "\n",
              "       ...,\n",
              "\n",
              "       [[148, 131, 105],\n",
              "        [148, 131, 105],\n",
              "        [148, 131, 105],\n",
              "        ...,\n",
              "        [ 83,  76,  57],\n",
              "        [ 84,  77,  58],\n",
              "        [ 85,  78,  59]],\n",
              "\n",
              "       [[148, 131, 105],\n",
              "        [148, 131, 105],\n",
              "        [148, 131, 105],\n",
              "        ...,\n",
              "        [ 83,  76,  57],\n",
              "        [ 84,  77,  58],\n",
              "        [ 85,  78,  59]],\n",
              "\n",
              "       [[148, 131, 105],\n",
              "        [148, 131, 105],\n",
              "        [148, 131, 105],\n",
              "        ...,\n",
              "        [ 83,  76,  57],\n",
              "        [ 84,  77,  58],\n",
              "        [ 85,  78,  59]]], dtype=uint8)"
            ]
          },
          "execution_count": 47,
          "metadata": {},
          "output_type": "execute_result"
        }
      ],
      "source": [
        "np.array(image)"
      ]
    },
    {
      "cell_type": "code",
      "execution_count": null,
      "metadata": {
        "colab": {
          "base_uri": "https://localhost:8080/"
        },
        "id": "lUX3qbgGOwNK",
        "outputId": "5c8e63f7-87d6-4738-8d9a-3c946d579ae2"
      },
      "outputs": [
        {
          "data": {
            "text/plain": [
              "(320, 480, 3)"
            ]
          },
          "execution_count": 60,
          "metadata": {},
          "output_type": "execute_result"
        }
      ],
      "source": [
        "image.shape"
      ]
    },
    {
      "cell_type": "code",
      "execution_count": null,
      "metadata": {
        "colab": {
          "base_uri": "https://localhost:8080/",
          "height": 287
        },
        "id": "DxWVxJKaCIss",
        "outputId": "a492537b-9424-4542-8388-78c4aae8d3f6"
      },
      "outputs": [
        {
          "data": {
            "text/plain": [
              "<matplotlib.image.AxesImage at 0x7f76f14eacd0>"
            ]
          },
          "execution_count": 45,
          "metadata": {},
          "output_type": "execute_result"
        },
        {
          "data": {
            "image/png": "[encoded data removed]",
            "text/plain": [
              "<Figure size 432x288 with 1 Axes>"
            ]
          },
          "metadata": {
            "needs_background": "light"
          },
          "output_type": "display_data"
        }
      ],
      "source": [
        "plt.imshow(image)"
      ]
    },
    {
      "cell_type": "code",
      "execution_count": null,
      "metadata": {
        "id": "45ocw7AVB20d"
      },
      "outputs": [],
      "source": [
        "image=cv2.cvtColor(image, cv2.COLOR_BGR2RGB)\n",
        "image2 = cv2.resize(image, dsize=(368, 368), interpolation=cv2.INTER_AREA)\n",
        "image3=np.transpose(np.float32(image2[:,:,:,np.newaxis]), (3,0,1,2))"
      ]
    },
    {
      "cell_type": "markdown",
      "metadata": {
        "id": "rISrqO6vKuhJ"
      },
      "source": [
        "## 텐서라이트"
      ]
    },
    {
      "cell_type": "code",
      "execution_count": null,
      "metadata": {
        "id": "5_X-vBnNK08j"
      },
      "outputs": [],
      "source": [
        "import tensorflow as tf"
      ]
    },
    {
      "cell_type": "code",
      "execution_count": null,
      "metadata": {
        "id": "8iTtmfJ3LATa"
      },
      "outputs": [],
      "source": [
        "saved_model_dir='/content/drive/MyDrive/saved_model/my_model'"
      ]
    },
    {
      "cell_type": "code",
      "execution_count": null,
      "metadata": {
        "colab": {
          "base_uri": "https://localhost:8080/"
        },
        "id": "1po-F_gIKuF5",
        "outputId": "a0cd7eab-83ca-49ac-be24-25874501b636"
      },
      "outputs": [
        {
          "name": "stderr",
          "output_type": "stream",
          "text": [
            "WARNING:absl:Buffer deduplication procedure will be skipped when flatbuffer library is not properly loaded\n"
          ]
        },
        {
          "data": {
            "text/plain": [
              "52661600"
            ]
          },
          "execution_count": 51,
          "metadata": {},
          "output_type": "execute_result"
        }
      ],
      "source": [
        "converter = tf.lite.TFLiteConverter.from_saved_model(saved_model_dir)\n",
        "converter.optimizations = [tf.lite.Optimize.DEFAULT]\n",
        "tflite_quantized_model = converter.convert()\n",
        "open(\"./drive/MyDrive/openpose.tflite\", \"wb\").write(tflite_quantized_model)"
      ]
    },
    {
      "cell_type": "code",
      "execution_count": null,
      "metadata": {
        "id": "eEGWxV4tL1Ok"
      },
      "outputs": [],
      "source": [
        "saved_model_dir2=\"./drive/MyDrive/save_model/3dpose\""
      ]
    },
    {
      "cell_type": "code",
      "execution_count": null,
      "metadata": {
        "colab": {
          "base_uri": "https://localhost:8080/"
        },
        "id": "3bS9UWBRL85n",
        "outputId": "987e3058-077b-474e-e432-afc1bc5f6997"
      },
      "outputs": [
        {
          "name": "stderr",
          "output_type": "stream",
          "text": [
            "WARNING:absl:Buffer deduplication procedure will be skipped when flatbuffer library is not properly loaded\n"
          ]
        },
        {
          "data": {
            "text/plain": [
              "4305680"
            ]
          },
          "execution_count": 53,
          "metadata": {},
          "output_type": "execute_result"
        }
      ],
      "source": [
        "converter = tf.lite.TFLiteConverter.from_saved_model(saved_model_dir2)\n",
        "converter.optimizations = [tf.lite.Optimize.DEFAULT]\n",
        "tflite_quantized_model = converter.convert()\n",
        "open(\"./drive/MyDrive/3dpose.tflite\", \"wb\").write(tflite_quantized_model)"
      ]
    },
    {
      "cell_type": "code",
      "execution_count": null,
      "metadata": {
        "colab": {
          "base_uri": "https://localhost:8080/"
        },
        "id": "qMZ4ARXpMA-w",
        "outputId": "e018bb40-c8cc-4162-ce04-8d50438d84e2"
      },
      "outputs": [
        {
          "name": "stderr",
          "output_type": "stream",
          "text": [
            "WARNING:absl:Buffer deduplication procedure will be skipped when flatbuffer library is not properly loaded\n"
          ]
        },
        {
          "data": {
            "text/plain": [
              "8481680"
            ]
          },
          "execution_count": 54,
          "metadata": {},
          "output_type": "execute_result"
        }
      ],
      "source": [
        "saved_model_dir3=\"./drive/MyDrive/save_model/stgcn2d\"\n",
        "converter = tf.lite.TFLiteConverter.from_saved_model(saved_model_dir3)\n",
        "converter.optimizations = [tf.lite.Optimize.DEFAULT]\n",
        "tflite_quantized_model = converter.convert()\n",
        "open(\"./drive/MyDrive/stgcn.tflite\", \"wb\").write(tflite_quantized_model)"
      ]
    },
    {
      "cell_type": "markdown",
      "source": [
        "## Flask 서버"
      ],
      "metadata": {
        "id": "PfQvAV66ckEG"
      }
    },
    {
      "cell_type": "code",
      "source": [
        "import flask\n",
        "from flask import Flask, request, render_template\n",
        "import numpy as np\n",
        "from scipy import misc"
      ],
      "metadata": {
        "id": "taj27Clmr6UZ"
      },
      "execution_count": null,
      "outputs": []
    },
    {
      "cell_type": "code",
      "source": [
        "!pip install flask-ngrok"
      ],
      "metadata": {
        "colab": {
          "base_uri": "https://localhost:8080/"
        },
        "id": "8Ug5b1hjQVHA",
        "outputId": "7ff5029e-6d5d-4e28-af7c-c1bcba518ff9"
      },
      "execution_count": null,
      "outputs": [
        {
          "output_type": "stream",
          "name": "stdout",
          "text": [
            "Collecting flask-ngrok\n",
            "  Downloading flask_ngrok-0.0.25-py3-none-any.whl (3.1 kB)\n",
            "Requirement already satisfied: Flask>=0.8 in /usr/local/lib/python3.7/dist-packages (from flask-ngrok) (1.1.4)\n",
            "Requirement already satisfied: requests in /usr/local/lib/python3.7/dist-packages (from flask-ngrok) (2.23.0)\n",
            "Requirement already satisfied: click<8.0,>=5.1 in /usr/local/lib/python3.7/dist-packages (from Flask>=0.8->flask-ngrok) (7.1.2)\n",
            "Requirement already satisfied: itsdangerous<2.0,>=0.24 in /usr/local/lib/python3.7/dist-packages (from Flask>=0.8->flask-ngrok) (1.1.0)\n",
            "Requirement already satisfied: Jinja2<3.0,>=2.10.1 in /usr/local/lib/python3.7/dist-packages (from Flask>=0.8->flask-ngrok) (2.11.3)\n",
            "Requirement already satisfied: Werkzeug<2.0,>=0.15 in /usr/local/lib/python3.7/dist-packages (from Flask>=0.8->flask-ngrok) (1.0.1)\n",
            "Requirement already satisfied: MarkupSafe>=0.23 in /usr/local/lib/python3.7/dist-packages (from Jinja2<3.0,>=2.10.1->Flask>=0.8->flask-ngrok) (2.0.1)\n",
            "Requirement already satisfied: urllib3!=1.25.0,!=1.25.1,<1.26,>=1.21.1 in /usr/local/lib/python3.7/dist-packages (from requests->flask-ngrok) (1.24.3)\n",
            "Requirement already satisfied: certifi>=2017.4.17 in /usr/local/lib/python3.7/dist-packages (from requests->flask-ngrok) (2021.10.8)\n",
            "Requirement already satisfied: idna<3,>=2.5 in /usr/local/lib/python3.7/dist-packages (from requests->flask-ngrok) (2.10)\n",
            "Requirement already satisfied: chardet<4,>=3.0.2 in /usr/local/lib/python3.7/dist-packages (from requests->flask-ngrok) (3.0.4)\n",
            "Installing collected packages: flask-ngrok\n",
            "Successfully installed flask-ngrok-0.0.25\n"
          ]
        }
      ]
    },
    {
      "cell_type": "code",
      "source": [
        "# Install useful stuff\n",
        "! apt install --yes ssh screen nano htop ranger git > /dev/null\n",
        "# SSH setting\n",
        "! echo \"root:\" | chpasswd\n",
        "! echo \"PasswordAuthentication yes\" > /etc/ssh/sshd_config\n",
        "! echo \"PermitUserEnvironment yes\" >> /etc/ssh/sshd_config\n",
        "! echo \"PermitRootLogin yes\" >> /etc/ssh/sshd_config\n",
        "! service ssh restart > /dev/null\n",
        "# Download ngrok\n",
        "! wget -q -c -nc https://bin.equinox.io/c/4VmDzA7iaHb/ngrok-stable-linux-amd64.zip\n",
        "! unzip -qq -n ngrok-stable-linux-amd64.zip\n",
        "# Run ngrok\n",
        "authtoken = \"28qN5PcOGaW131RA45nmReoWjrE_7Uj5HJRPfL6Zgg1Mrt8kr\"\n",
        "get_ipython().system_raw('./ngrok authtoken $authtoken && ./ngrok tcp 22 &')\n",
        "! sleep 3\n",
        "# Get the address for SSH\n",
        "import requests\n",
        "from re import sub\n",
        "r = requests.get('http://localhost:4040/api/tunnels')\n",
        "str_ssh = r.json()['tunnels'][0]['public_url']\n",
        "str_ssh = sub(\"tcp://\", \"\", str_ssh)\n",
        "str_ssh = sub(\":\", \" -p \", str_ssh)\n",
        "str_ssh = \"ssh root@\" + str_ssh\n",
        "print(str_ssh)"
      ],
      "metadata": {
        "colab": {
          "base_uri": "https://localhost:8080/"
        },
        "id": "sqmBa1QNhlCF",
        "outputId": "b267f962-4543-4d01-9f6a-ce1e703c4d10"
      },
      "execution_count": null,
      "outputs": [
        {
          "output_type": "stream",
          "name": "stdout",
          "text": [
            "\n",
            "WARNING: apt does not have a stable CLI interface. Use with caution in scripts.\n",
            "\n",
            "No password supplied\n",
            "No password supplied\n",
            "No password supplied\n",
            "chpasswd: (user root) pam_chauthtok() failed, error:\n",
            "Authentication token manipulation error\n",
            "chpasswd: (line 1, user root) password not changed\n",
            "ssh root@0.tcp.ngrok.io -p 16065\n"
          ]
        }
      ]
    },
    {
      "cell_type": "code",
      "source": [
        "from flask import Flask,jsonify\n",
        "from flask_ngrok import run_with_ngrok"
      ],
      "metadata": {
        "id": "PnSin_b1jOOW"
      },
      "execution_count": null,
      "outputs": []
    },
    {
      "cell_type": "code",
      "source": [
        "dataprocess=dataflow(myopenpose,my3d,mystgcn)"
      ],
      "metadata": {
        "id": "vA-r1O8nvCqg"
      },
      "execution_count": null,
      "outputs": []
    },
    {
      "cell_type": "code",
      "source": [
        "app = Flask(__name__)\n",
        "run_with_ngrok(app)\n",
        "count = 0\n",
        "temp=np.zeros((1,368,368,3))\n",
        "@app.route(\"/\")\n",
        "def renderHtml():\n",
        "    return \"Hello World\"\n",
        "\n",
        "# 파일 업로드\n",
        "@app.route(\n",
        "    \"/fileUpload\", methods=[\"GET\", \"POST\"]\n",
        ")  # GET = 특정 url을 요청, POST = 값을 넘겨주며 url을 요청\n",
        "def uploadFile():\n",
        "  global count\n",
        "  global temp\n",
        "  if request.method == \"POST\":\n",
        "    print(\"========================업로드 작동========================\")\n",
        "    count+=1\n",
        "    contents = request.get_json(force=True, silent=True)\n",
        "    x=contents[\"0\"]\n",
        "    a=np.array(list(map(int, x[1:-1].split(','))))\n",
        "    p2=np.array(yuv2rgb(a))\n",
        "    p3=np.transpose(p2,[1,0,2])\n",
        "    p4=np.uint8(p3)\n",
        "    image2 = cv2.resize(p4, dsize=(368, 368), interpolation=cv2.INTER_AREA)\n",
        "    image3=np.array(image2)[np.newaxis]\n",
        "    temp=np.concatenate([temp,image3],axis=0)\n",
        "    print(count)\n",
        "    if count==30:\n",
        "      x_1=temp[1:]\n",
        "      x_2=tf.stack(x_1)\n",
        "      x_3=np.float64(x_2)\n",
        "      \n",
        "      c=dataprocess.input_to_3dpose(x_3)\n",
        "      c=dataprocess.pose3d(c)\n",
        "      c=test3=dataprocess.stgcn(c)\n",
        "      count=0\n",
        "      temp=np.zeros((1,368,368,3))\n",
        "      return jsonify(int(np.argmax(c,axis=1)[0]))\n",
        "    else:\n",
        "      return jsonify(-1)    \n",
        "\n",
        "\n",
        "if __name__ == \"__main__\":\n",
        "    app.run()"
      ],
      "metadata": {
        "colab": {
          "base_uri": "https://localhost:8080/"
        },
        "id": "m6wlwkyDjiVC",
        "outputId": "f14b72d5-ebd2-414f-e56f-fdd4e6bab673"
      },
      "execution_count": null,
      "outputs": [
        {
          "output_type": "stream",
          "name": "stdout",
          "text": [
            " * Serving Flask app \"__main__\" (lazy loading)\n",
            " * Environment: production\n",
            "\u001b[31m   WARNING: This is a development server. Do not use it in a production deployment.\u001b[0m\n",
            "\u001b[2m   Use a production WSGI server instead.\u001b[0m\n",
            " * Debug mode: off\n"
          ]
        },
        {
          "output_type": "stream",
          "name": "stderr",
          "text": [
            " * Running on http://127.0.0.1:5000/ (Press CTRL+C to quit)\n"
          ]
        }
      ]
    },
    {
      "cell_type": "code",
      "source": [
        "app = Flask(__name__)\n",
        "run_with_ngrok(app)\n",
        "@app.route(\"/\")\n",
        "def hello():\n",
        "    return \"Hello World!\"\n",
        "\n",
        "if __name__ == '__main__':\n",
        "    app.run()  # If address is in use, may need to terminate other sessions:\n",
        "               # Runtime > Manage Sessions > Terminate Other Sessions"
      ],
      "metadata": {
        "colab": {
          "base_uri": "https://localhost:8080/"
        },
        "id": "isZTKfTEOxPh",
        "outputId": "8a046dbc-ee32-4132-d032-ea872163d8e3"
      },
      "execution_count": null,
      "outputs": [
        {
          "output_type": "stream",
          "name": "stdout",
          "text": [
            " * Serving Flask app \"__main__\" (lazy loading)\n",
            " * Environment: production\n",
            "\u001b[31m   WARNING: This is a development server. Do not use it in a production deployment.\u001b[0m\n",
            "\u001b[2m   Use a production WSGI server instead.\u001b[0m\n",
            " * Debug mode: off\n"
          ]
        },
        {
          "output_type": "stream",
          "name": "stderr",
          "text": [
            " * Running on http://127.0.0.1:5000/ (Press CTRL+C to quit)\n"
          ]
        },
        {
          "output_type": "stream",
          "name": "stdout",
          "text": [
            " * Running on http://2c7a-34-91-139-192.ngrok.io\n",
            " * Traffic stats available on http://127.0.0.1:4040\n"
          ]
        },
        {
          "output_type": "stream",
          "name": "stderr",
          "text": [
            "127.0.0.1 - - [08/May/2022 14:01:10] \"\u001b[37mGET / HTTP/1.1\u001b[0m\" 200 -\n",
            "127.0.0.1 - - [08/May/2022 14:01:10] \"\u001b[33mGET /favicon.ico HTTP/1.1\u001b[0m\" 404 -\n"
          ]
        }
      ]
    },
    {
      "cell_type": "code",
      "source": [
        "from flask import Flask\n",
        "from flask_ngrok import run_with_ngrok\n",
        "\n",
        "app = Flask(__name__)\n",
        "run_with_ngrok(app)\n",
        "model=dataflow(myopenpose,my3d,mystgcn)"
      ],
      "metadata": {
        "id": "WPWzfb8AsFUw"
      },
      "execution_count": null,
      "outputs": []
    },
    {
      "cell_type": "code",
      "source": [
        "@app.route('/predict', methods=['POST'])\n",
        "def predict():\n",
        "  if request.method == 'POST':\n",
        "      file = request.files['file']\n",
        "      img_bytes = file.read()\n",
        "      c=model.dataprocess.input_to_3dpose(c)\n",
        "      c=dataprocess.input_to_3dpose(c)\n",
        "      c=test3=dataprocess.stgcn(c)\n",
        "      result=np.argmax(c,axis=1)\n",
        "      return flask.jsonify({'result': result})\n",
        "\n",
        "\n",
        "\n",
        "if __name__ == '__main__':\n",
        "    app.run()  # If address is in use, may need to terminate other sessions:\n",
        "               # Runtime > Manage Sessions > Terminate Other Sessions"
      ],
      "metadata": {
        "colab": {
          "base_uri": "https://localhost:8080/"
        },
        "id": "OUA0pOvApOIJ",
        "outputId": "7f2a897a-8bb9-4612-c406-5bbed10b48fc"
      },
      "execution_count": null,
      "outputs": [
        {
          "output_type": "stream",
          "name": "stderr",
          "text": [
            " * Running on http://127.0.0.1:5000/ (Press CTRL+C to quit)\n"
          ]
        },
        {
          "output_type": "stream",
          "name": "stdout",
          "text": [
            " * Running on http://8af8-34-91-233-199.ngrok.io\n",
            " * Traffic stats available on http://127.0.0.1:4040\n"
          ]
        },
        {
          "output_type": "stream",
          "name": "stderr",
          "text": [
            "127.0.0.1 - - [07/May/2022 17:50:31] \"\u001b[37mGET / HTTP/1.1\u001b[0m\" 200 -\n",
            "127.0.0.1 - - [07/May/2022 17:50:31] \"\u001b[33mGET /favicon.ico HTTP/1.1\u001b[0m\" 404 -\n"
          ]
        }
      ]
    },
    {
      "cell_type": "code",
      "source": [
        "import json\n",
        "with open('./drive/MyDrive/bigfile.json', 'r') as f:\n",
        "  json_data = json.load(f)\n",
        "\n",
        "x=json_data[\"1\"]"
      ],
      "metadata": {
        "id": "SqtoPNpoonhZ"
      },
      "execution_count": null,
      "outputs": []
    },
    {
      "cell_type": "code",
      "source": [
        "import json\n",
        "def patch_data():\n",
        "  with open('./drive/MyDrive/bigfile.json', 'r') as f:\n",
        "    json_data = json.load(f)\n",
        "  \n",
        "  temp=np.zeros((1,368,368,3))\n",
        "  for i in range(30):\n",
        "    x=json_data[str(i+1)]\n",
        "    a=np.array(list(map(int, x[1:-1].split(','))))\n",
        "    p2=np.array(yuv2rgb(a))\n",
        "    p3=np.transpose(p2,[1,0,2])\n",
        "    p4=np.uint8(p3)\n",
        "    image2 = cv2.resize(p4, dsize=(368, 368), interpolation=cv2.INTER_AREA)\n",
        "    image3=np.array(image2)[np.newaxis]\n",
        "    temp=np.concatenate([temp,image3],axis=0)\n",
        "  temp2=tf.stack(temp)\n",
        "  temp3=np.float64(temp2)\n",
        "\n",
        "  return temp3"
      ],
      "metadata": {
        "id": "sUlSqSEexHVg"
      },
      "execution_count": null,
      "outputs": []
    },
    {
      "cell_type": "code",
      "source": [
        "x_data=patch_data()"
      ],
      "metadata": {
        "id": "mb-wDZ6LzSK5"
      },
      "execution_count": null,
      "outputs": []
    },
    {
      "cell_type": "code",
      "source": [
        "def yuv2rgb(yuv):\n",
        "  height = 240\n",
        "  width = 320\n",
        "  size = height * width\n",
        "  rgb = [[None] * width for _ in range(height)]\n",
        "  for i in range(height):\n",
        "      for j in range(width):\n",
        "          idx_y = i * width + j\n",
        "          idx_u = int(size + (i // 2) * width + (j // 2) * 2)\n",
        "          idx_v = int(size + (i // 2) * width + (j // 2) * 2) + 1\n",
        "\n",
        "          y = 0xFF & yuv[idx_y]\n",
        "          u = 0xFF & yuv[idx_u]\n",
        "          v = 0xFF & yuv[idx_v]\n",
        "\n",
        "          r = int(y + 1.402 * (v - 128))\n",
        "          g = int(y - 0.344 * (u - 128) - 0.714 * (v - 128))\n",
        "          b = int(y + 1.772 * (u - 128))\n",
        "\n",
        "          if r < 0:\n",
        "              r = 0\n",
        "          if g < 0:\n",
        "              g = 0\n",
        "          if b < 0:\n",
        "              b = 0\n",
        "\n",
        "          if r > 255:\n",
        "              r = 255\n",
        "          if g > 255:\n",
        "              g = 255\n",
        "          if b > 255:\n",
        "              b = 255\n",
        "\n",
        "          rgb[i][j] = [b, g, r]\n",
        "  return rgb"
      ],
      "metadata": {
        "id": "hplxe4X692HX"
      },
      "execution_count": null,
      "outputs": []
    },
    {
      "cell_type": "code",
      "source": [
        "plt.imshow(np.transpose(p2,[1,0,2]))"
      ],
      "metadata": {
        "colab": {
          "base_uri": "https://localhost:8080/",
          "height": 287
        },
        "id": "Qw47nLBr7y-z",
        "outputId": "244643ce-997d-4c9f-b489-c34dc50bc526"
      },
      "execution_count": null,
      "outputs": [
        {
          "output_type": "execute_result",
          "data": {
            "text/plain": [
              "<matplotlib.image.AxesImage at 0x7f158d2c05d0>"
            ]
          },
          "metadata": {},
          "execution_count": 63
        },
        {
          "output_type": "display_data",
          "data": {
            "text/plain": [
              "<Figure size 432x288 with 1 Axes>"
            ],
            "image/png": "[encoded data removed]"
          },
          "metadata": {
            "needs_background": "light"
          }
        }
      ]
    }
  ],
  "metadata": {
    "accelerator": "GPU",
    "colab": {
      "collapsed_sections": [],
      "machine_shape": "hm",
      "name": "Prototype.ipynb",
      "provenance": [],
      "include_colab_link": true
    },
    "kernelspec": {
      "display_name": "Python 3",
      "name": "python3"
    },
    "language_info": {
      "name": "python"
    }
  },
  "nbformat": 4,
  "nbformat_minor": 0
}