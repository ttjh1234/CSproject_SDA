{
  "nbformat": 4,
  "nbformat_minor": 0,
  "metadata": {
    "colab": {
      "name": "OpenPose_caffe.ipynb",
      "provenance": [],
      "collapsed_sections": [],
      "mount_file_id": "1aNbOa2Mj4ULgGTY1RXTG_fev2GRbH6sU",
      "authorship_tag": "ABX9TyPWpdbbGAsUeUXP6W7Nq53k",
      "include_colab_link": true
    },
    "kernelspec": {
      "name": "python3",
      "display_name": "Python 3"
    },
    "language_info": {
      "name": "python"
    }
  },
  "cells": [
    {
      "cell_type": "markdown",
      "metadata": {
        "id": "view-in-github",
        "colab_type": "text"
      },
      "source": [
        "<a href=\"https://colab.research.google.com/github/ttjh1234/CSproject_SDA/blob/main/OpenPose_caffe.ipynb\" target=\"_parent\"><img src=\"https://colab.research.google.com/assets/colab-badge.svg\" alt=\"Open In Colab\"/></a>"
      ]
    },
    {
      "cell_type": "markdown",
      "source": [
        "# OpenPose Caffe"
      ],
      "metadata": {
        "id": "FBkFwVLZ0aVW"
      }
    },
    {
      "cell_type": "markdown",
      "source": [
        "## OpenPose COCO Model"
      ],
      "metadata": {
        "id": "CWU_xSrZ0fN9"
      }
    },
    {
      "cell_type": "code",
      "execution_count": null,
      "metadata": {
        "colab": {
          "base_uri": "https://localhost:8080/"
        },
        "id": "Ld1NFKE30WIo",
        "outputId": "e0808d4f-f80d-4f2a-b404-07850ed49ced"
      },
      "outputs": [
        {
          "output_type": "stream",
          "name": "stdout",
          "text": [
            "Requirement already satisfied: opencv-python in /usr/local/lib/python3.7/dist-packages (4.1.2.30)\n",
            "Requirement already satisfied: numpy>=1.14.5 in /usr/local/lib/python3.7/dist-packages (from opencv-python) (1.21.5)\n"
          ]
        }
      ],
      "source": [
        "!pip install opencv-python"
      ]
    },
    {
      "cell_type": "code",
      "source": [
        "import cv2\n",
        "import matplotlib.pyplot as plt\n",
        "import numpy as np\n",
        "import pandas as pd\n",
        "import tensorflow as tf"
      ],
      "metadata": {
        "id": "T_bj15AO1UqK"
      },
      "execution_count": null,
      "outputs": []
    },
    {
      "cell_type": "code",
      "source": [
        "# COCO에서 각 파트 번호, 선으로 연결될 POSE_PAIRS\n",
        "BODY_PARTS = { \"Nose\": 0, \"Neck\": 1, \"RShoulder\": 2, \"RElbow\": 3, \"RWrist\": 4,\n",
        "                \"LShoulder\": 5, \"LElbow\": 6, \"LWrist\": 7, \"RHip\": 8, \"RKnee\": 9,\n",
        "                \"RAnkle\": 10, \"LHip\": 11, \"LKnee\": 12, \"LAnkle\": 13, \"Reye\": 14,\n",
        "                \"Leye\": 15 ,\"REar\":16,\"LEar\":17}\n",
        "\n",
        "POSE_PAIRS = [[\"Neck\",\"RShoulder\"], [\"Neck\",\"LShoulder\"], [\"RShoulder\",\"RElbow\"], [\"RElbow\",\"RWrist\"], [\"LShoulder\",\"LElbow\"], [\"LElbow\",\"LWrist\"],\n",
        "              [\"Neck\",\"RHip\"], [\"RHip\",\"RKnee\"], [\"RKnee\",\"RAnkle\"], [\"Neck\",\"LHip\"], [\"LHip\",\"LKnee\"], [\"LKnee\",\"LAnkle\"],\n",
        "              [\"Neck\",\"Nose\"], [\"Nose\",\"Reye\"], [\"Reye\",\"REar\"], [\"Nose\",\"Leye\"], [\"Leye\",\"LEar\"],\n",
        "              [\"RShoulder\",\"LEar\"], [\"LShoulder\",\"REar\"] ]"
      ],
      "metadata": {
        "id": "ZQKBB2cn1XmT"
      },
      "execution_count": null,
      "outputs": []
    },
    {
      "cell_type": "code",
      "source": [
        "# 각 파일 path\n",
        "protoFile = \"./drive/MyDrive/OpenPose/pose_deploy_linevec.prototxt\"\n",
        "weightsFile = \"./drive/MyDrive/OpenPose/pose_iter_440000.caffemodel\""
      ],
      "metadata": {
        "id": "XCS9kVMs1bsN"
      },
      "execution_count": null,
      "outputs": []
    },
    {
      "cell_type": "code",
      "source": [
        "# 위의 path에 있는 network 불러오기\n",
        "net = cv2.dnn.readNetFromCaffe(protoFile, weightsFile)"
      ],
      "metadata": {
        "id": "7qc707rh1dbN"
      },
      "execution_count": null,
      "outputs": []
    },
    {
      "cell_type": "code",
      "source": [
        "# 이미지 읽어오기\n",
        "image = cv2.imread(\"./drive/MyDrive/OpenPose/test_image2.jpg\",cv2.IMREAD_COLOR)"
      ],
      "metadata": {
        "id": "96XzbrBz4Ba6"
      },
      "execution_count": null,
      "outputs": []
    },
    {
      "cell_type": "code",
      "source": [
        "image=cv2.cvtColor(image, cv2.COLOR_BGR2RGB)"
      ],
      "metadata": {
        "id": "PGIhKU7d4Ixy"
      },
      "execution_count": null,
      "outputs": []
    },
    {
      "cell_type": "code",
      "source": [
        "type(image)"
      ],
      "metadata": {
        "colab": {
          "base_uri": "https://localhost:8080/"
        },
        "id": "TpybhSQd4Kk9",
        "outputId": "b29f8d37-0c29-42e8-c0ec-c3a35ba30466"
      },
      "execution_count": null,
      "outputs": [
        {
          "output_type": "execute_result",
          "data": {
            "text/plain": [
              "numpy.ndarray"
            ]
          },
          "metadata": {},
          "execution_count": 8
        }
      ]
    },
    {
      "cell_type": "code",
      "source": [
        "image.shape"
      ],
      "metadata": {
        "colab": {
          "base_uri": "https://localhost:8080/"
        },
        "id": "NqJxpSbe4MII",
        "outputId": "806c07be-ede4-411c-9e61-4bbf352cf87b"
      },
      "execution_count": null,
      "outputs": [
        {
          "output_type": "execute_result",
          "data": {
            "text/plain": [
              "(320, 340, 3)"
            ]
          },
          "metadata": {},
          "execution_count": 9
        }
      ]
    },
    {
      "cell_type": "code",
      "source": [
        "plt.imshow(image)"
      ],
      "metadata": {
        "colab": {
          "base_uri": "https://localhost:8080/",
          "height": 287
        },
        "id": "4X340amP4NiU",
        "outputId": "d5912389-2051-49fc-89a8-249b420ebc57"
      },
      "execution_count": null,
      "outputs": [
        {
          "output_type": "execute_result",
          "data": {
            "text/plain": [
              "<matplotlib.image.AxesImage at 0x7fb301fc7790>"
            ]
          },
          "metadata": {},
          "execution_count": 10
        },
        {
          "output_type": "display_data",
          "data": {
            "text/plain": [
              "<Figure size 432x288 with 1 Axes>"
            ],
            "image/png": "[encoded data removed]"
          },
          "metadata": {
            "needs_background": "light"
          }
        }
      ]
    },
    {
      "cell_type": "code",
      "source": [
        "# frame.shape = 불러온 이미지에서 height, width, color 받아옴\n",
        "imageHeight, imageWidth, _ = image.shape"
      ],
      "metadata": {
        "id": "TIkXP7Wa4PFB"
      },
      "execution_count": null,
      "outputs": []
    },
    {
      "cell_type": "code",
      "source": [
        "# network에 넣기위해 전처리\n",
        "inpBlob = cv2.dnn.blobFromImage(image, 1.0 / 255, (imageWidth, imageHeight), (0, 0, 0), swapRB=False, crop=False)"
      ],
      "metadata": {
        "id": "y2BBzP8P4Qth"
      },
      "execution_count": null,
      "outputs": []
    },
    {
      "cell_type": "code",
      "source": [
        "inpBlob"
      ],
      "metadata": {
        "colab": {
          "base_uri": "https://localhost:8080/"
        },
        "id": "ZLNlf-lZ4U2D",
        "outputId": "86086bde-6995-4e84-c097-300902115868"
      },
      "execution_count": null,
      "outputs": [
        {
          "output_type": "execute_result",
          "data": {
            "text/plain": [
              "array([[[[0.9607844 , 0.9607844 , 0.9607844 , ..., 0.92549026,\n",
              "          0.92549026, 0.92549026],\n",
              "         [0.9607844 , 0.9607844 , 0.9607844 , ..., 0.92549026,\n",
              "          0.92549026, 0.92549026],\n",
              "         [0.96470594, 0.96470594, 0.96470594, ..., 0.9294118 ,\n",
              "          0.9294118 , 0.9294118 ],\n",
              "         ...,\n",
              "         [0.9843138 , 0.9843138 , 0.9843138 , ..., 0.9450981 ,\n",
              "          0.9450981 , 0.9450981 ],\n",
              "         [0.9843138 , 0.9843138 , 0.9843138 , ..., 0.9450981 ,\n",
              "          0.9450981 , 0.9450981 ],\n",
              "         [0.9843138 , 0.9843138 , 0.9843138 , ..., 0.9450981 ,\n",
              "          0.9450981 , 0.9450981 ]],\n",
              "\n",
              "        [[0.9607844 , 0.9607844 , 0.9607844 , ..., 0.92549026,\n",
              "          0.92549026, 0.92549026],\n",
              "         [0.9607844 , 0.9607844 , 0.9607844 , ..., 0.92549026,\n",
              "          0.92549026, 0.92549026],\n",
              "         [0.96470594, 0.96470594, 0.96470594, ..., 0.9294118 ,\n",
              "          0.9294118 , 0.9294118 ],\n",
              "         ...,\n",
              "         [0.9843138 , 0.9843138 , 0.9843138 , ..., 0.9450981 ,\n",
              "          0.9450981 , 0.9450981 ],\n",
              "         [0.9843138 , 0.9843138 , 0.9843138 , ..., 0.9450981 ,\n",
              "          0.9450981 , 0.9450981 ],\n",
              "         [0.9843138 , 0.9843138 , 0.9843138 , ..., 0.9450981 ,\n",
              "          0.9450981 , 0.9450981 ]],\n",
              "\n",
              "        [[0.9686275 , 0.9686275 , 0.9686275 , ..., 0.9333334 ,\n",
              "          0.9333334 , 0.9333334 ],\n",
              "         [0.9686275 , 0.9686275 , 0.9686275 , ..., 0.9333334 ,\n",
              "          0.9333334 , 0.9333334 ],\n",
              "         [0.9725491 , 0.9725491 , 0.9725491 , ..., 0.93725497,\n",
              "          0.93725497, 0.93725497],\n",
              "         ...,\n",
              "         [0.9921569 , 0.9921569 , 0.9921569 , ..., 0.95294124,\n",
              "          0.95294124, 0.95294124],\n",
              "         [0.9921569 , 0.9921569 , 0.9921569 , ..., 0.95294124,\n",
              "          0.95294124, 0.95294124],\n",
              "         [0.9921569 , 0.9921569 , 0.9921569 , ..., 0.95294124,\n",
              "          0.95294124, 0.95294124]]]], dtype=float32)"
            ]
          },
          "metadata": {},
          "execution_count": 13
        }
      ]
    },
    {
      "cell_type": "code",
      "source": [
        "inpBlob.shape"
      ],
      "metadata": {
        "colab": {
          "base_uri": "https://localhost:8080/"
        },
        "id": "0lsI0NUJ4Wrz",
        "outputId": "518f71e9-8afa-44d4-d02c-b385b4b9daba"
      },
      "execution_count": null,
      "outputs": [
        {
          "output_type": "execute_result",
          "data": {
            "text/plain": [
              "(1, 3, 320, 340)"
            ]
          },
          "metadata": {},
          "execution_count": 14
        }
      ]
    },
    {
      "cell_type": "code",
      "source": [
        "# network에 넣어주기\n",
        "net.setInput(inpBlob)"
      ],
      "metadata": {
        "id": "ROukcXwj4Y6O"
      },
      "execution_count": null,
      "outputs": []
    },
    {
      "cell_type": "code",
      "source": [
        "# 결과 받아오기\n",
        "output = net.forward()"
      ],
      "metadata": {
        "id": "-Mt9kJwW4axL"
      },
      "execution_count": null,
      "outputs": []
    },
    {
      "cell_type": "code",
      "source": [
        "type(output)"
      ],
      "metadata": {
        "colab": {
          "base_uri": "https://localhost:8080/"
        },
        "id": "9mhSMyaJ4cNn",
        "outputId": "5744e8a4-a1cb-49f7-da19-1ed10b5830fd"
      },
      "execution_count": null,
      "outputs": [
        {
          "output_type": "execute_result",
          "data": {
            "text/plain": [
              "numpy.ndarray"
            ]
          },
          "metadata": {},
          "execution_count": 17
        }
      ]
    },
    {
      "cell_type": "code",
      "source": [
        "output.shape"
      ],
      "metadata": {
        "colab": {
          "base_uri": "https://localhost:8080/"
        },
        "id": "bEJhst184hcc",
        "outputId": "92231a5b-b14f-4729-905f-686ee7a95095"
      },
      "execution_count": null,
      "outputs": [
        {
          "output_type": "execute_result",
          "data": {
            "text/plain": [
              "(1, 57, 40, 43)"
            ]
          },
          "metadata": {},
          "execution_count": 18
        }
      ]
    },
    {
      "cell_type": "code",
      "source": [
        "# output.shape[1] = 이미지 ID, [2] = 출력 맵의 높이, [3] = 너비\n",
        "H = output.shape[2]\n",
        "W = output.shape[3]\n",
        "print(\"이미지 ID : \", len(output[0]), \", H : \", output.shape[2], \", W : \",output.shape[3]) # 이미지 ID"
      ],
      "metadata": {
        "colab": {
          "base_uri": "https://localhost:8080/"
        },
        "id": "gYHHM3mq4ikV",
        "outputId": "42dce312-7621-4327-de32-142c2ab5ea15"
      },
      "execution_count": null,
      "outputs": [
        {
          "output_type": "stream",
          "name": "stdout",
          "text": [
            "이미지 ID :  57 , H :  40 , W :  43\n"
          ]
        }
      ]
    },
    {
      "cell_type": "code",
      "source": [
        "points = []\n",
        "for i in range(0,18):\n",
        "    # 해당 신체부위 신뢰도 얻음.\n",
        "    probMap = output[0, i, :, :]\n",
        " \n",
        "    # global 최대값 찾기\n",
        "    minVal, prob, minLoc, point = cv2.minMaxLoc(probMap)\n",
        "\n",
        "    # 원래 이미지에 맞게 점 위치 변경\n",
        "    x = (imageWidth * point[0]) / W\n",
        "    y = (imageHeight * point[1]) / H\n",
        "\n",
        "    # 키포인트 검출한 결과가 0.1보다 크면(검출한곳이 위 BODY_PARTS랑 맞는 부위면) points에 추가, 검출했는데 부위가 없으면 None으로    \n",
        "    if prob > 0.1 :    \n",
        "        cv2.circle(image, (int(x), int(y)), 3, (0, 255, 255), thickness=-1, lineType=cv2.FILLED)       # circle(그릴곳, 원의 중심, 반지름, 색)\n",
        "        cv2.putText(image, \"{}\".format(i), (int(x), int(y)), cv2.FONT_HERSHEY_SIMPLEX, 0.5, (0, 0, 255), 1, lineType=cv2.LINE_AA)\n",
        "        points.append((int(x), int(y)))\n",
        "    else :\n",
        "        points.append(None)"
      ],
      "metadata": {
        "id": "qL_ffLGT4mFv"
      },
      "execution_count": null,
      "outputs": []
    },
    {
      "cell_type": "code",
      "source": [
        "plt.imshow(image)"
      ],
      "metadata": {
        "colab": {
          "base_uri": "https://localhost:8080/",
          "height": 287
        },
        "id": "9Fs6EOvF4qKC",
        "outputId": "90930792-70f0-4eb7-d1f2-8ff3e786b043"
      },
      "execution_count": null,
      "outputs": [
        {
          "output_type": "execute_result",
          "data": {
            "text/plain": [
              "<matplotlib.image.AxesImage at 0x7fb301ac7710>"
            ]
          },
          "metadata": {},
          "execution_count": 21
        },
        {
          "output_type": "display_data",
          "data": {
            "text/plain": [
              "<Figure size 432x288 with 1 Axes>"
            ],
            "image/png": "[encoded data removed]"
          },
          "metadata": {
            "needs_background": "light"
          }
        }
      ]
    },
    {
      "cell_type": "code",
      "source": [
        "#cv2.imshow(\"Output-Keypoints\",image)\n",
        "#cv2.waitKey(0)\n",
        "\n",
        "# 이미지 복사\n",
        "imageCopy = image\n",
        "\n",
        "# 각 POSE_PAIRS별로 선 그어줌 (머리 - 목, 목 - 왼쪽어깨, ...)\n",
        "for pair in POSE_PAIRS:\n",
        "    partA = pair[0]             # Head\n",
        "    partA = BODY_PARTS[partA]   # 0\n",
        "    partB = pair[1]             # Neck\n",
        "    partB = BODY_PARTS[partB]   # 1\n",
        "    \n",
        "    #print(partA,\" 와 \", partB, \" 연결\\n\")\n",
        "    if points[partA] and points[partB]:\n",
        "        cv2.line(imageCopy, points[partA], points[partB], (0, 255, 0), 2)\n",
        "\n",
        "\n",
        "#cv2.imshow(\"Output-Keypoints\",imageCopy)\n",
        "#cv2.waitKey(0)\n",
        "#cv2.destroyAllWindows()"
      ],
      "metadata": {
        "id": "2OvRgdPg4s2y"
      },
      "execution_count": null,
      "outputs": []
    },
    {
      "cell_type": "code",
      "source": [
        "plt.imshow(imageCopy)"
      ],
      "metadata": {
        "colab": {
          "base_uri": "https://localhost:8080/",
          "height": 287
        },
        "id": "25Lzi7OE40z9",
        "outputId": "69daddb2-0d37-43a5-a47c-ef5c1a99f6a0"
      },
      "execution_count": null,
      "outputs": [
        {
          "output_type": "execute_result",
          "data": {
            "text/plain": [
              "<matplotlib.image.AxesImage at 0x7fb301a4e190>"
            ]
          },
          "metadata": {},
          "execution_count": 23
        },
        {
          "output_type": "display_data",
          "data": {
            "text/plain": [
              "<Figure size 432x288 with 1 Axes>"
            ],
            "image/png": "[encoded data removed]"
          },
          "metadata": {
            "needs_background": "light"
          }
        }
      ]
    },
    {
      "cell_type": "markdown",
      "source": [
        "COCO 모델을 사용하니까, 조금 더 사진 처리에 시간이 걸림을 알 수 있다.\n",
        "\n",
        "예전 4초, 현재 7초."
      ],
      "metadata": {
        "id": "EJdN6R4A6HrU"
      }
    },
    {
      "cell_type": "markdown",
      "source": [
        "## 비디오 처리 with COCO"
      ],
      "metadata": {
        "id": "JyUjTw8M6CjU"
      }
    },
    {
      "cell_type": "code",
      "source": [
        "from scipy.spatial import distance as dist \n",
        "import numpy as np \n",
        "import pandas as pd \n",
        "import progressbar \n",
        "import cv2"
      ],
      "metadata": {
        "id": "baVIFRbd6d9M"
      },
      "execution_count": null,
      "outputs": []
    },
    {
      "cell_type": "code",
      "source": [
        "protoFile = \"./drive/MyDrive/OpenPose/pose_deploy_linevec.prototxt\"\n",
        "weightsFile = \"./drive/MyDrive/OpenPose/pose_iter_440000.caffemodel\"\n",
        "net = cv2.dnn.readNetFromCaffe(protoFile, weightsFile)"
      ],
      "metadata": {
        "id": "Iwa0BxRD6lvc"
      },
      "execution_count": null,
      "outputs": []
    },
    {
      "cell_type": "code",
      "source": [
        "video = cv2.VideoCapture(\"./drive/MyDrive/OpenPose/A001_P001_G001_C001.mp4\")\n",
        "type(video)"
      ],
      "metadata": {
        "colab": {
          "base_uri": "https://localhost:8080/"
        },
        "id": "g_Yz7kFk6tIP",
        "outputId": "31adb57e-181d-4c6c-fba0-fda8c4d17efc"
      },
      "execution_count": null,
      "outputs": [
        {
          "output_type": "execute_result",
          "data": {
            "text/plain": [
              "cv2.VideoCapture"
            ]
          },
          "metadata": {},
          "execution_count": 26
        }
      ]
    },
    {
      "cell_type": "code",
      "source": [
        "ok, frame = video.read() "
      ],
      "metadata": {
        "id": "Fwylv3n_9to6"
      },
      "execution_count": null,
      "outputs": []
    },
    {
      "cell_type": "code",
      "source": [
        "data=[]"
      ],
      "metadata": {
        "id": "nYcnqcHKHT8q"
      },
      "execution_count": null,
      "outputs": []
    },
    {
      "cell_type": "markdown",
      "source": [
        "Frame Size를 30으로 변환하는 작업을 효율적이게 하고 싶은데, 하는 방법을 아직 못찾음.\n",
        "\n",
        "데이터 전처리를 해야 학습 모델에도 이용가능함.\n",
        "\n",
        "처리 방법\n",
        "1. 영상을 전부 불러서 파일제목을 라벨로 한다.\n",
        "2. 영상을 30프레임씩만 가져와서 모델의 입력으로 사용한다."
      ],
      "metadata": {
        "id": "0goh4xi2KIMh"
      }
    },
    {
      "cell_type": "code",
      "source": [
        "### 영상 한 개를 30프레임으로 자르는 작업 성공\n",
        "\n",
        "video = cv2.VideoCapture(\"./drive/MyDrive/OpenPose/A001_P001_G001_C001.mp4\")\n",
        "count = 0\n",
        "\n",
        "while (video.isOpened()):\n",
        "    # read()는 grab()와 retrieve() 두 함수를 한 함수로 불러옴\n",
        "    # 두 함수를 동시에 불러오는 이유는 프레임이 존재하지 않을 때\n",
        "    # grab() 함수를 이용하여 return false 혹은 NULL 값을 넘겨 주기 때문\n",
        "    ret, image = video.read()\n",
        "    if ret != True: \n",
        "      break\n",
        "\n",
        "    if (int(video.get(1)) % int(video.get(cv2.CAP_PROP_FRAME_COUNT)/30) == 0):\n",
        "        print('Saved frame number : ' + str(int(video.get(1))))\n",
        "        cv2.imwrite(\"./drive/MyDrive/OpenPose/test/%d.jpg\" % count, image)\n",
        "        print('Saved frame%d.jpg' % count)\n",
        "        count += 1\n",
        "    if count==30:\n",
        "      break\n",
        "video.release()"
      ],
      "metadata": {
        "colab": {
          "base_uri": "https://localhost:8080/"
        },
        "id": "T4m5j8f-EPjp",
        "outputId": "a104ad43-f84c-4963-c8b5-a79c36292055"
      },
      "execution_count": null,
      "outputs": [
        {
          "output_type": "stream",
          "name": "stdout",
          "text": [
            "Saved frame number : 5\n",
            "Saved frame0.jpg\n",
            "Saved frame number : 10\n",
            "Saved frame1.jpg\n",
            "Saved frame number : 15\n",
            "Saved frame2.jpg\n",
            "Saved frame number : 20\n",
            "Saved frame3.jpg\n",
            "Saved frame number : 25\n",
            "Saved frame4.jpg\n",
            "Saved frame number : 30\n",
            "Saved frame5.jpg\n",
            "Saved frame number : 35\n",
            "Saved frame6.jpg\n",
            "Saved frame number : 40\n",
            "Saved frame7.jpg\n",
            "Saved frame number : 45\n",
            "Saved frame8.jpg\n",
            "Saved frame number : 50\n",
            "Saved frame9.jpg\n",
            "Saved frame number : 55\n",
            "Saved frame10.jpg\n",
            "Saved frame number : 60\n",
            "Saved frame11.jpg\n",
            "Saved frame number : 65\n",
            "Saved frame12.jpg\n",
            "Saved frame number : 70\n",
            "Saved frame13.jpg\n",
            "Saved frame number : 75\n",
            "Saved frame14.jpg\n",
            "Saved frame number : 80\n",
            "Saved frame15.jpg\n",
            "Saved frame number : 85\n",
            "Saved frame16.jpg\n",
            "Saved frame number : 90\n",
            "Saved frame17.jpg\n",
            "Saved frame number : 95\n",
            "Saved frame18.jpg\n",
            "Saved frame number : 100\n",
            "Saved frame19.jpg\n",
            "Saved frame number : 105\n",
            "Saved frame20.jpg\n",
            "Saved frame number : 110\n",
            "Saved frame21.jpg\n",
            "Saved frame number : 115\n",
            "Saved frame22.jpg\n",
            "Saved frame number : 120\n",
            "Saved frame23.jpg\n",
            "Saved frame number : 125\n",
            "Saved frame24.jpg\n",
            "Saved frame number : 130\n",
            "Saved frame25.jpg\n",
            "Saved frame number : 135\n",
            "Saved frame26.jpg\n",
            "Saved frame number : 140\n",
            "Saved frame27.jpg\n",
            "Saved frame number : 145\n",
            "Saved frame28.jpg\n",
            "Saved frame number : 150\n",
            "Saved frame29.jpg\n"
          ]
        }
      ]
    },
    {
      "cell_type": "code",
      "source": [
        "def video2photo(filepath):\n",
        "  video = cv2.VideoCapture(\"./drive/MyDrive/OpenPose/A001_P001_G001_C001.mp4\")\n",
        "  count = 0\n",
        "\n",
        "  while (video.isOpened()):\n",
        "      # read()는 grab()와 retrieve() 두 함수를 한 함수로 불러옴\n",
        "      # 두 함수를 동시에 불러오는 이유는 프레임이 존재하지 않을 때\n",
        "      # grab() 함수를 이용하여 return false 혹은 NULL 값을 넘겨 주기 때문\n",
        "      ret, image = video.read()\n",
        "      if ret != True: \n",
        "        break\n",
        "\n",
        "      if (int(video.get(1)) % int(video.get(cv2.CAP_PROP_FRAME_COUNT)/30) == 0):\n",
        "          print('Saved frame number : ' + str(int(video.get(1))))\n",
        "          cv2.imwrite(\"./drive/MyDrive/OpenPose/test/%d.jpg\" % count, image)\n",
        "          print('Saved frame%d.jpg' % count)\n",
        "          count += 1\n",
        "      if count==30:\n",
        "        break\n",
        "  video.release()\n"
      ],
      "metadata": {
        "id": "d8mmAtogbkO8"
      },
      "execution_count": null,
      "outputs": []
    }
  ]
}